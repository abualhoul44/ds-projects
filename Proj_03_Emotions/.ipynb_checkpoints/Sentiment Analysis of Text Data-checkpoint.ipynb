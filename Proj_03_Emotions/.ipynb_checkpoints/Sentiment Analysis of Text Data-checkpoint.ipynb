{
 "cells": [
  {
   "cell_type": "markdown",
   "metadata": {},
   "source": [
    "# Machine Learning Sentiment Analysis of Text Data Capstone Project\n"
   ]
  },
  {
   "cell_type": "markdown",
   "metadata": {},
   "source": [
    "## Sentiment Analysis of Text Data Example\n"
   ]
  },
  {
   "cell_type": "markdown",
   "metadata": {},
   "source": [
    "## Import  Libraries"
   ]
  },
  {
   "cell_type": "code",
   "execution_count": 211,
   "metadata": {},
   "outputs": [
    {
     "name": "stdout",
     "output_type": "stream",
     "text": [
      "\u001b[31mERROR: Could not find a version that satisfies the requirement emoticons\u001b[0m\n",
      "\u001b[31mERROR: No matching distribution found for emoticons\u001b[0m\n"
     ]
    }
   ],
   "source": []
  },
  {
   "cell_type": "code",
   "execution_count": 151,
   "metadata": {},
   "outputs": [
    {
     "name": "stdout",
     "output_type": "stream",
     "text": [
      "Requirement already satisfied: plotly in /Users/sphinx/anaconda3/lib/python3.7/site-packages (4.14.3)\n",
      "Requirement already satisfied: retrying>=1.3.3 in /Users/sphinx/anaconda3/lib/python3.7/site-packages (from plotly) (1.3.3)\n",
      "Requirement already satisfied: six in /Users/sphinx/anaconda3/lib/python3.7/site-packages (from plotly) (1.12.0)\n"
     ]
    }
   ],
   "source": [
    "!pip install plotly #plotly.py is an interactive, open-source, and browser-based graphing library for Python https://github.com/plotly/plotly.py"
   ]
  },
  {
   "cell_type": "code",
   "execution_count": 152,
   "metadata": {},
   "outputs": [
    {
     "name": "stdout",
     "output_type": "stream",
     "text": [
      "Requirement already satisfied: cufflinks in /Users/sphinx/anaconda3/lib/python3.7/site-packages (0.17.3)\n",
      "Requirement already satisfied: pandas>=0.19.2 in /Users/sphinx/anaconda3/lib/python3.7/site-packages (from cufflinks) (0.24.2)\n",
      "Requirement already satisfied: numpy>=1.9.2 in /Users/sphinx/anaconda3/lib/python3.7/site-packages (from cufflinks) (1.16.4)\n",
      "Requirement already satisfied: six>=1.9.0 in /Users/sphinx/anaconda3/lib/python3.7/site-packages (from cufflinks) (1.12.0)\n",
      "Requirement already satisfied: ipython>=5.3.0 in /Users/sphinx/anaconda3/lib/python3.7/site-packages (from cufflinks) (7.6.1)\n",
      "Requirement already satisfied: colorlover>=0.2.1 in /Users/sphinx/anaconda3/lib/python3.7/site-packages (from cufflinks) (0.3.0)\n",
      "Requirement already satisfied: ipywidgets>=7.0.0 in /Users/sphinx/anaconda3/lib/python3.7/site-packages (from cufflinks) (7.5.0)\n",
      "Requirement already satisfied: setuptools>=34.4.1 in /Users/sphinx/anaconda3/lib/python3.7/site-packages (from cufflinks) (41.0.1)\n",
      "Requirement already satisfied: plotly>=4.1.1 in /Users/sphinx/anaconda3/lib/python3.7/site-packages (from cufflinks) (4.14.3)\n",
      "Requirement already satisfied: appnope in /Users/sphinx/anaconda3/lib/python3.7/site-packages (from ipython>=5.3.0->cufflinks) (0.1.0)\n",
      "Requirement already satisfied: decorator in /Users/sphinx/anaconda3/lib/python3.7/site-packages (from ipython>=5.3.0->cufflinks) (4.4.0)\n",
      "Requirement already satisfied: jedi>=0.10 in /Users/sphinx/anaconda3/lib/python3.7/site-packages (from ipython>=5.3.0->cufflinks) (0.13.3)\n",
      "Requirement already satisfied: traitlets>=4.2 in /Users/sphinx/anaconda3/lib/python3.7/site-packages (from ipython>=5.3.0->cufflinks) (4.3.2)\n",
      "Requirement already satisfied: pickleshare in /Users/sphinx/anaconda3/lib/python3.7/site-packages (from ipython>=5.3.0->cufflinks) (0.7.5)\n",
      "Requirement already satisfied: pygments in /Users/sphinx/anaconda3/lib/python3.7/site-packages (from ipython>=5.3.0->cufflinks) (2.4.2)\n",
      "Requirement already satisfied: pexpect in /Users/sphinx/anaconda3/lib/python3.7/site-packages (from ipython>=5.3.0->cufflinks) (4.7.0)\n",
      "Requirement already satisfied: backcall in /Users/sphinx/anaconda3/lib/python3.7/site-packages (from ipython>=5.3.0->cufflinks) (0.1.0)\n",
      "Requirement already satisfied: prompt-toolkit<2.1.0,>=2.0.0 in /Users/sphinx/anaconda3/lib/python3.7/site-packages (from ipython>=5.3.0->cufflinks) (2.0.9)\n",
      "Requirement already satisfied: nbformat>=4.2.0 in /Users/sphinx/anaconda3/lib/python3.7/site-packages (from ipywidgets>=7.0.0->cufflinks) (4.4.0)\n",
      "Requirement already satisfied: ipykernel>=4.5.1 in /Users/sphinx/anaconda3/lib/python3.7/site-packages (from ipywidgets>=7.0.0->cufflinks) (5.1.1)\n",
      "Requirement already satisfied: widgetsnbextension~=3.5.0 in /Users/sphinx/anaconda3/lib/python3.7/site-packages (from ipywidgets>=7.0.0->cufflinks) (3.5.0)\n",
      "Requirement already satisfied: jupyter-client in /Users/sphinx/anaconda3/lib/python3.7/site-packages (from ipykernel>=4.5.1->ipywidgets>=7.0.0->cufflinks) (5.3.1)\n",
      "Requirement already satisfied: tornado>=4.2 in /Users/sphinx/anaconda3/lib/python3.7/site-packages (from ipykernel>=4.5.1->ipywidgets>=7.0.0->cufflinks) (6.0.3)\n",
      "Requirement already satisfied: parso>=0.3.0 in /Users/sphinx/anaconda3/lib/python3.7/site-packages (from jedi>=0.10->ipython>=5.3.0->cufflinks) (0.5.0)\n",
      "Requirement already satisfied: jsonschema!=2.5.0,>=2.4 in /Users/sphinx/anaconda3/lib/python3.7/site-packages (from nbformat>=4.2.0->ipywidgets>=7.0.0->cufflinks) (3.0.1)\n",
      "Requirement already satisfied: jupyter-core in /Users/sphinx/anaconda3/lib/python3.7/site-packages (from nbformat>=4.2.0->ipywidgets>=7.0.0->cufflinks) (4.5.0)\n",
      "Requirement already satisfied: ipython-genutils in /Users/sphinx/anaconda3/lib/python3.7/site-packages (from nbformat>=4.2.0->ipywidgets>=7.0.0->cufflinks) (0.2.0)\n",
      "Requirement already satisfied: attrs>=17.4.0 in /Users/sphinx/anaconda3/lib/python3.7/site-packages (from jsonschema!=2.5.0,>=2.4->nbformat>=4.2.0->ipywidgets>=7.0.0->cufflinks) (19.1.0)\n",
      "Requirement already satisfied: pyrsistent>=0.14.0 in /Users/sphinx/anaconda3/lib/python3.7/site-packages (from jsonschema!=2.5.0,>=2.4->nbformat>=4.2.0->ipywidgets>=7.0.0->cufflinks) (0.14.11)\n",
      "Requirement already satisfied: python-dateutil>=2.5.0 in /Users/sphinx/anaconda3/lib/python3.7/site-packages (from pandas>=0.19.2->cufflinks) (2.8.0)\n",
      "Requirement already satisfied: pytz>=2011k in /Users/sphinx/anaconda3/lib/python3.7/site-packages (from pandas>=0.19.2->cufflinks) (2019.1)\n",
      "Requirement already satisfied: retrying>=1.3.3 in /Users/sphinx/anaconda3/lib/python3.7/site-packages (from plotly>=4.1.1->cufflinks) (1.3.3)\n",
      "Requirement already satisfied: wcwidth in /Users/sphinx/anaconda3/lib/python3.7/site-packages (from prompt-toolkit<2.1.0,>=2.0.0->ipython>=5.3.0->cufflinks) (0.1.7)\n",
      "Requirement already satisfied: notebook>=4.4.1 in /Users/sphinx/anaconda3/lib/python3.7/site-packages (from widgetsnbextension~=3.5.0->ipywidgets>=7.0.0->cufflinks) (6.0.0)\n",
      "Requirement already satisfied: terminado>=0.8.1 in /Users/sphinx/anaconda3/lib/python3.7/site-packages (from notebook>=4.4.1->widgetsnbextension~=3.5.0->ipywidgets>=7.0.0->cufflinks) (0.8.2)\n",
      "Requirement already satisfied: prometheus-client in /Users/sphinx/anaconda3/lib/python3.7/site-packages (from notebook>=4.4.1->widgetsnbextension~=3.5.0->ipywidgets>=7.0.0->cufflinks) (0.7.1)\n",
      "Requirement already satisfied: jinja2 in /Users/sphinx/anaconda3/lib/python3.7/site-packages (from notebook>=4.4.1->widgetsnbextension~=3.5.0->ipywidgets>=7.0.0->cufflinks) (2.10.1)\n",
      "Requirement already satisfied: nbconvert in /Users/sphinx/anaconda3/lib/python3.7/site-packages (from notebook>=4.4.1->widgetsnbextension~=3.5.0->ipywidgets>=7.0.0->cufflinks) (5.5.0)\n",
      "Requirement already satisfied: Send2Trash in /Users/sphinx/anaconda3/lib/python3.7/site-packages (from notebook>=4.4.1->widgetsnbextension~=3.5.0->ipywidgets>=7.0.0->cufflinks) (1.5.0)\n",
      "Requirement already satisfied: pyzmq>=17 in /Users/sphinx/anaconda3/lib/python3.7/site-packages (from notebook>=4.4.1->widgetsnbextension~=3.5.0->ipywidgets>=7.0.0->cufflinks) (18.0.0)\n",
      "Requirement already satisfied: MarkupSafe>=0.23 in /Users/sphinx/anaconda3/lib/python3.7/site-packages (from jinja2->notebook>=4.4.1->widgetsnbextension~=3.5.0->ipywidgets>=7.0.0->cufflinks) (1.1.1)\n",
      "Requirement already satisfied: pandocfilters>=1.4.1 in /Users/sphinx/anaconda3/lib/python3.7/site-packages (from nbconvert->notebook>=4.4.1->widgetsnbextension~=3.5.0->ipywidgets>=7.0.0->cufflinks) (1.4.2)\n",
      "Requirement already satisfied: defusedxml in /Users/sphinx/anaconda3/lib/python3.7/site-packages (from nbconvert->notebook>=4.4.1->widgetsnbextension~=3.5.0->ipywidgets>=7.0.0->cufflinks) (0.6.0)\n",
      "Requirement already satisfied: mistune>=0.8.1 in /Users/sphinx/anaconda3/lib/python3.7/site-packages (from nbconvert->notebook>=4.4.1->widgetsnbextension~=3.5.0->ipywidgets>=7.0.0->cufflinks) (0.8.4)\n",
      "Requirement already satisfied: testpath in /Users/sphinx/anaconda3/lib/python3.7/site-packages (from nbconvert->notebook>=4.4.1->widgetsnbextension~=3.5.0->ipywidgets>=7.0.0->cufflinks) (0.4.2)\n",
      "Requirement already satisfied: entrypoints>=0.2.2 in /Users/sphinx/anaconda3/lib/python3.7/site-packages (from nbconvert->notebook>=4.4.1->widgetsnbextension~=3.5.0->ipywidgets>=7.0.0->cufflinks) (0.3)\n",
      "Requirement already satisfied: bleach in /Users/sphinx/anaconda3/lib/python3.7/site-packages (from nbconvert->notebook>=4.4.1->widgetsnbextension~=3.5.0->ipywidgets>=7.0.0->cufflinks) (3.1.0)\n",
      "Requirement already satisfied: webencodings in /Users/sphinx/anaconda3/lib/python3.7/site-packages (from bleach->nbconvert->notebook>=4.4.1->widgetsnbextension~=3.5.0->ipywidgets>=7.0.0->cufflinks) (0.5.1)\n",
      "Requirement already satisfied: ptyprocess>=0.5 in /Users/sphinx/anaconda3/lib/python3.7/site-packages (from pexpect->ipython>=5.3.0->cufflinks) (0.6.0)\n"
     ]
    }
   ],
   "source": [
    "!pip install cufflinks #This library binds the power of plotly with the flexibility of pandas for easy plotting. https://github.com/santosjorge/cufflinks"
   ]
  },
  {
   "cell_type": "code",
   "execution_count": 213,
   "metadata": {},
   "outputs": [
    {
     "name": "stderr",
     "output_type": "stream",
     "text": [
      "[nltk_data] Downloading package punkt to /Users/sphinx/nltk_data...\n",
      "[nltk_data]   Package punkt is already up-to-date!\n"
     ]
    },
    {
     "data": {
      "text/plain": [
       "True"
      ]
     },
     "execution_count": 213,
     "metadata": {},
     "output_type": "execute_result"
    }
   ],
   "source": [
    "import pandas as pd\n",
    "import numpy as np\n",
    "from collections import Counter\n",
    "import nltk\n",
    "import pandas as pd\n",
    "import re as regex\n",
    "import numpy as np\n",
    "import plotly\n",
    "from plotly import graph_objs\n",
    "from sklearn.metrics import f1_score, precision_score, recall_score, accuracy_score\n",
    "from sklearn.model_selection import train_test_split, cross_val_score, GridSearchCV, RandomizedSearchCV\n",
    "from time import time\n",
    "import matplotlib.pyplot as plt\n",
    "%matplotlib inline\n",
    "#plotly.offline.init_notebook_mode()\n",
    "\n",
    "import seaborn as sns\n",
    "import plotly\n",
    "import cufflinks as cf\n",
    "import re\n",
    "nltk.download('punkt')"
   ]
  },
  {
   "cell_type": "markdown",
   "metadata": {},
   "source": [
    "## Import the Data"
   ]
  },
  {
   "cell_type": "code",
   "execution_count": 214,
   "metadata": {},
   "outputs": [],
   "source": [
    "train_data = pd.read_csv('data/train.csv')\n",
    "test_data = pd.read_csv('data/test.csv')\n",
    "\n",
    "train_data.rename(columns={'Category': 'emotion'}, inplace=True)\n",
    "test_data.rename(columns={'Category': 'Tweet'}, inplace=True)\n",
    "\n",
    "train_data = train_data[train_data['emotion'] != 'Tweet']\n"
   ]
  },
  {
   "cell_type": "code",
   "execution_count": 215,
   "metadata": {},
   "outputs": [
    {
     "data": {
      "text/html": [
       "<div>\n",
       "<style scoped>\n",
       "    .dataframe tbody tr th:only-of-type {\n",
       "        vertical-align: middle;\n",
       "    }\n",
       "\n",
       "    .dataframe tbody tr th {\n",
       "        vertical-align: top;\n",
       "    }\n",
       "\n",
       "    .dataframe thead th {\n",
       "        text-align: right;\n",
       "    }\n",
       "</style>\n",
       "<table border=\"1\" class=\"dataframe\">\n",
       "  <thead>\n",
       "    <tr style=\"text-align: right;\">\n",
       "      <th></th>\n",
       "      <th>Id</th>\n",
       "      <th>emotion</th>\n",
       "      <th>Tweet</th>\n",
       "    </tr>\n",
       "  </thead>\n",
       "  <tbody>\n",
       "    <tr>\n",
       "      <th>0</th>\n",
       "      <td>635769805279248384</td>\n",
       "      <td>negative</td>\n",
       "      <td>Not Available</td>\n",
       "    </tr>\n",
       "    <tr>\n",
       "      <th>1</th>\n",
       "      <td>635930169241374720</td>\n",
       "      <td>neutral</td>\n",
       "      <td>IOS 9 App Transport Security. Mm need to check...</td>\n",
       "    </tr>\n",
       "    <tr>\n",
       "      <th>2</th>\n",
       "      <td>635950258682523648</td>\n",
       "      <td>neutral</td>\n",
       "      <td>Mar if you have an iOS device, you should down...</td>\n",
       "    </tr>\n",
       "    <tr>\n",
       "      <th>3</th>\n",
       "      <td>636030803433009153</td>\n",
       "      <td>negative</td>\n",
       "      <td>@jimmie_vanagon my phone does not run on lates...</td>\n",
       "    </tr>\n",
       "    <tr>\n",
       "      <th>4</th>\n",
       "      <td>636100906224848896</td>\n",
       "      <td>positive</td>\n",
       "      <td>Not sure how to start your publication on iOS?...</td>\n",
       "    </tr>\n",
       "  </tbody>\n",
       "</table>\n",
       "</div>"
      ],
      "text/plain": [
       "                   Id   emotion  \\\n",
       "0  635769805279248384  negative   \n",
       "1  635930169241374720   neutral   \n",
       "2  635950258682523648   neutral   \n",
       "3  636030803433009153  negative   \n",
       "4  636100906224848896  positive   \n",
       "\n",
       "                                               Tweet  \n",
       "0                                      Not Available  \n",
       "1  IOS 9 App Transport Security. Mm need to check...  \n",
       "2  Mar if you have an iOS device, you should down...  \n",
       "3  @jimmie_vanagon my phone does not run on lates...  \n",
       "4  Not sure how to start your publication on iOS?...  "
      ]
     },
     "execution_count": 215,
     "metadata": {},
     "output_type": "execute_result"
    }
   ],
   "source": [
    "train_data.head()"
   ]
  },
  {
   "cell_type": "code",
   "execution_count": 216,
   "metadata": {},
   "outputs": [
    {
     "name": "stdout",
     "output_type": "stream",
     "text": [
      "<class 'pandas.core.frame.DataFrame'>\n",
      "Int64Index: 5969 entries, 0 to 5969\n",
      "Data columns (total 3 columns):\n",
      "Id         5969 non-null object\n",
      "emotion    5969 non-null object\n",
      "Tweet      5969 non-null object\n",
      "dtypes: object(3)\n",
      "memory usage: 186.5+ KB\n"
     ]
    }
   ],
   "source": [
    "train_data.info()"
   ]
  },
  {
   "cell_type": "code",
   "execution_count": 220,
   "metadata": {},
   "outputs": [
    {
     "data": {
      "text/html": [
       "<div>\n",
       "<style scoped>\n",
       "    .dataframe tbody tr th:only-of-type {\n",
       "        vertical-align: middle;\n",
       "    }\n",
       "\n",
       "    .dataframe tbody tr th {\n",
       "        vertical-align: top;\n",
       "    }\n",
       "\n",
       "    .dataframe thead th {\n",
       "        text-align: right;\n",
       "    }\n",
       "</style>\n",
       "<table border=\"1\" class=\"dataframe\">\n",
       "  <thead>\n",
       "    <tr style=\"text-align: right;\">\n",
       "      <th></th>\n",
       "      <th>Id</th>\n",
       "      <th>Tweet</th>\n",
       "    </tr>\n",
       "  </thead>\n",
       "  <tbody>\n",
       "    <tr>\n",
       "      <th>0</th>\n",
       "      <td>6.289494e+17</td>\n",
       "      <td>dear @Microsoft the newOoffice for Mac is grea...</td>\n",
       "    </tr>\n",
       "    <tr>\n",
       "      <th>1</th>\n",
       "      <td>6.289766e+17</td>\n",
       "      <td>@Microsoft how about you make a system that do...</td>\n",
       "    </tr>\n",
       "    <tr>\n",
       "      <th>2</th>\n",
       "      <td>6.290232e+17</td>\n",
       "      <td>Not Available</td>\n",
       "    </tr>\n",
       "    <tr>\n",
       "      <th>3</th>\n",
       "      <td>6.291792e+17</td>\n",
       "      <td>Not Available</td>\n",
       "    </tr>\n",
       "    <tr>\n",
       "      <th>4</th>\n",
       "      <td>6.291863e+17</td>\n",
       "      <td>If I make a game as a #windows10 Universal App...</td>\n",
       "    </tr>\n",
       "  </tbody>\n",
       "</table>\n",
       "</div>"
      ],
      "text/plain": [
       "             Id                                              Tweet\n",
       "0  6.289494e+17  dear @Microsoft the newOoffice for Mac is grea...\n",
       "1  6.289766e+17  @Microsoft how about you make a system that do...\n",
       "2  6.290232e+17                                      Not Available\n",
       "3  6.291792e+17                                      Not Available\n",
       "4  6.291863e+17  If I make a game as a #windows10 Universal App..."
      ]
     },
     "execution_count": 220,
     "metadata": {},
     "output_type": "execute_result"
    }
   ],
   "source": [
    "test_data.head()"
   ]
  },
  {
   "cell_type": "code",
   "execution_count": 218,
   "metadata": {},
   "outputs": [
    {
     "name": "stdout",
     "output_type": "stream",
     "text": [
      "<class 'pandas.core.frame.DataFrame'>\n",
      "RangeIndex: 9968 entries, 0 to 9967\n",
      "Data columns (total 2 columns):\n",
      "Id       4000 non-null float64\n",
      "Tweet    4000 non-null object\n",
      "dtypes: float64(1), object(1)\n",
      "memory usage: 155.8+ KB\n"
     ]
    }
   ],
   "source": [
    "test_data.info()"
   ]
  },
  {
   "cell_type": "markdown",
   "metadata": {},
   "source": [
    "# Data visualization"
   ]
  },
  {
   "cell_type": "markdown",
   "metadata": {},
   "source": [
    "## Distribution of target class"
   ]
  },
  {
   "cell_type": "code",
   "execution_count": 219,
   "metadata": {},
   "outputs": [
    {
     "data": {
      "text/plain": [
       "<matplotlib.axes._subplots.AxesSubplot at 0x7fe2edfab908>"
      ]
     },
     "execution_count": 219,
     "metadata": {},
     "output_type": "execute_result"
    },
    {
     "data": {
      "image/png": "[encoded data removed]",
      "text/plain": [
       "<Figure size 432x288 with 1 Axes>"
      ]
     },
     "metadata": {
      "needs_background": "light"
     },
     "output_type": "display_data"
    }
   ],
   "source": [
    "sns.countplot(x='emotion',data=train_data)"
   ]
  },
  {
   "cell_type": "code",
   "execution_count": null,
   "metadata": {},
   "outputs": [],
   "source": []
  },
  {
   "cell_type": "markdown",
   "metadata": {},
   "source": [
    "## Data Cleaning"
   ]
  },
  {
   "cell_type": "code",
   "execution_count": 233,
   "metadata": {},
   "outputs": [],
   "source": [
    "# remove the tweets which contains Not available\n",
    "\n",
    "train_data = train_data[train_data['Tweet'] != \"Not Available\"]"
   ]
  },
  {
   "cell_type": "raw",
   "metadata": {},
   "source": [
    "### Some basic Function to clean tweets\n",
    "Remove URLs\n",
    "Remove usernames (mentions)\n",
    "Remove tweets with Not Available text\n",
    "Remove special characters\n",
    "Remove numbers\n"
   ]
  },
  {
   "cell_type": "code",
   "execution_count": 234,
   "metadata": {},
   "outputs": [],
   "source": [
    "def clean_tweets(tweet):\n",
    "    \n",
    "    # remove URL\n",
    "    tweet = re.sub(r\"http\\S+\", \"\", tweet)\n",
    "    \n",
    "    # Remove usernames\n",
    "    tweet = re.sub(r\"@[^\\s]+[\\s]?\",'',tweet)\n",
    "    \n",
    "    # remove special characters \n",
    "    tweet = re.sub('[^ a-zA-Z0-9]', '', tweet)\n",
    "    \n",
    "    # remove Numbers\n",
    "    tweet = re.sub('[0-9]', '', tweet)\n",
    "    \n",
    "    return tweet"
   ]
  },
  {
   "cell_type": "code",
   "execution_count": 235,
   "metadata": {},
   "outputs": [],
   "source": [
    "# Apply function to Tweet column\n",
    "\n",
    "train_data['Tweet'] = train_data['Tweet'].apply(clean_tweets)"
   ]
  },
  {
   "cell_type": "code",
   "execution_count": 238,
   "metadata": {},
   "outputs": [
    {
     "data": {
      "text/plain": [
       "'text4 '"
      ]
     },
     "execution_count": 238,
     "metadata": {},
     "output_type": "execute_result"
    }
   ],
   "source": [
    "#Remember the power of RegEx when you need it... \n",
    "text = 'text4 http://url.com/bla2/blah2'\n",
    "re.sub(r\"http\\S+\", \"\", text)\n",
    "#text = '@ajay dkfhskf dfs'\n",
    "#re.sub(r\"@[^\\s]+[\\s]?\",'',text)\n",
    "#re.sub('[^ a-zA-Z0-9]', '', text)\n"
   ]
  },
  {
   "cell_type": "code",
   "execution_count": 239,
   "metadata": {},
   "outputs": [
    {
     "data": {
      "text/plain": [
       "1    IOS  App Transport Security Mm need to check i...\n",
       "2    Mar if you have an iOS device you should downl...\n",
       "3    my phone does not run on latest IOS which may ...\n",
       "4    Not sure how to start your publication on iOS ...\n",
       "5    Two Dollar Tuesday is here with Forklift  Quic...\n",
       "Name: Tweet, dtype: object"
      ]
     },
     "execution_count": 239,
     "metadata": {},
     "output_type": "execute_result"
    }
   ],
   "source": [
    "train_data['Tweet'].head()"
   ]
  },
  {
   "cell_type": "code",
   "execution_count": null,
   "metadata": {},
   "outputs": [],
   "source": []
  },
  {
   "cell_type": "markdown",
   "metadata": {},
   "source": [
    "## Tokenization & stemming"
   ]
  },
  {
   "cell_type": "code",
   "execution_count": 240,
   "metadata": {},
   "outputs": [
    {
     "name": "stdout",
     "output_type": "stream",
     "text": [
      "['This', 'is', 'a', 'cooool', '#dummysmiley', ':', ':-)', ':-P', '<3', 'and', 'some', 'arrows', '<', '>', '->', '<--', '@remy', ':', 'This', 'is', 'waaaaayyyy', 'too', 'much', 'for', 'you', '!', '!', '!']\n",
      "['This', 'is', 'a', 'cooool', '#', 'dummysmiley', ':', ':', '-', ')', ':', '-P', '<', '3', 'and', 'some', 'arrows', '<', '>', '-', '>', '<', '--', '@', 'remy', ':', 'This', 'is', 'waaaaayyyy', 'too', 'much', 'for', 'you', '!', '!', '!', '!', '!', '!']\n"
     ]
    }
   ],
   "source": [
    "#Note the difference between Tweet and word tokenize\n",
    "#TweetTokenizer a subset meant to keeps hashtags and emotions expressions intact while word_tokenize doesn't.\n",
    "from nltk.tokenize import TweetTokenizer\n",
    "from nltk.tokenize import  word_tokenize\n",
    "tt = TweetTokenizer()\n",
    "tweet = \"This is a cooool #dummysmiley: :-) :-P <3 and some arrows < > -> <-- @remy: This is waaaaayyyy too much for you!!!!!!\"\n",
    "print(tt.tokenize(tweet))\n",
    "print(word_tokenize(tweet))"
   ]
  },
  {
   "cell_type": "code",
   "execution_count": 241,
   "metadata": {},
   "outputs": [
    {
     "data": {
      "text/plain": [
       "1       [IOS, App, Transport, Security, Mm, need, to, ...\n",
       "2       [Mar, if, you, have, an, iOS, device, you, sho...\n",
       "3       [my, phone, does, not, run, on, latest, IOS, w...\n",
       "4       [Not, sure, how, to, start, your, publication,...\n",
       "5       [Two, Dollar, Tuesday, is, here, with, Forklif...\n",
       "6       [If, youre, not, already, signed, up, to, test...\n",
       "7       [YouTube, Gaming, Officially, Launches, On, We...\n",
       "8       [YouTube, Gaming, Launches, Tomorrow, with, iO...\n",
       "9       [Yashan, from, BBC, the, VPN, access, on, IOS,...\n",
       "10      [Parkrun, app, for, iOS, downloaded, Where, ha...\n",
       "11      [Today, launches, with, apps, for, iOS, and, A...\n",
       "12      [Got, a, project, you, want, to, work, on, Nee...\n",
       "13      [Met, with, iOS, Developer, today, We, may, ha...\n",
       "14      [CrossSkyHigh, is, going, IOS, saturday, For, ...\n",
       "15      [Whats, the, best, way, to, get, audio, record...\n",
       "16      [Five, Great, Free, Apps, and, Games, for, iOS...\n",
       "17      [looks, interesting, but, Ive, ALWAYS, ended, ...\n",
       "18      [See, news, through, the, eyes, of, real, peop...\n",
       "19      [Siri, knows, all, about, Apples, iOS, event, ...\n",
       "20      [Whos, ready, for, Build, Tomorrow, Might, be,...\n",
       "21      [As, Ive, been, on, FB, for, many, years, I, h...\n",
       "22      [try, beat, mp, it, may, be, on, android, i, h...\n",
       "23      [Even, though, there, are, other, differences,...\n",
       "24      [Huawei, Watch, PreOrder, Suggests, Android, W...\n",
       "25      [SpeedeNews, Rumor, Android, Wear, will, soon,...\n",
       "26      [Over, here, in, NW, near, th, amp, Rhode, Isl...\n",
       "27      [I, wish, that, CustomFolderIcons, worked, on,...\n",
       "28      [So, today, i, checked, my, old, iPod, th, gen...\n",
       "29      [please, stop, walking, and, work, You, have, ...\n",
       "30      [Hi, i, have, heard, that, they, said, MCPE, u...\n",
       "                              ...                        \n",
       "5935    [Watching, a, replay, of, the, PSG, Lille, mat...\n",
       "5936    [Any, truth, to, Galatasaray, having, made, an...\n",
       "5937    [that, rd, shot, looks, like, its, from, a, Mi...\n",
       "5938    [anyway, telling, Zlatan, hell, be, the, cente...\n",
       "5939    [more, days, till, we, start, the, campaign, t...\n",
       "5940    [The, VP, of, Frances, refereeing, union, Laur...\n",
       "5942    [OH, NO, we, supposedly, pull, out, of, Pedro,...\n",
       "5943    [Zlatan, will, your, perfumes, make, me, perfo...\n",
       "5944    [Sun, are, so, full, of, shit, they, say, PSG,...\n",
       "5945    [Reserving, the, right, to, put, Milan, rd, if...\n",
       "5946    [Zlatan, is, simply, saving, himself, for, the...\n",
       "5947    [but, if, Zlatan, is, available, for, a, reaso...\n",
       "5948    [we, may, have, the, slimmest, of, chances, cu...\n",
       "5949    [The, top, strikers, in, the, world, are, not,...\n",
       "5950    [I, would, love, to, have, cavani, man, Hes, o...\n",
       "5951    [I, didnt, think, they, will, sell, either, Ma...\n",
       "5952    [Mourinho, Zlatan, Serie, A, who, are, the, wi...\n",
       "5954    [Zlatan, wears, sunglasses, so, his, eyes, do,...\n",
       "5955    [I, dont, want, it, to, be, but, it, may, be, ...\n",
       "5956    [We, held, talks, with, PSG, on, Thursday, for...\n",
       "5958    [Zlatan, is, looking, mighty, attractive, at, ...\n",
       "5959    [Wonder, if, Zlatan, will, be, a, United, play...\n",
       "5960    [Today, United, should, have, done, better, th...\n",
       "5961    [If, there, is, a, silver, lining, this, shows...\n",
       "5962    [If, Wenger, is, in, Paris, Could, it, be, for...\n",
       "5963    [Ok, ed, lets, do, this, Zlatan, greizmann, an...\n",
       "5964    [Goal, level, Zlatan, k, by, Friday, Posting, ...\n",
       "5965    [Wouldnt, surprise, me, if, we, enquiredHe, ca...\n",
       "5966    [Rib, injury, for, Zlatan, against, Russia, is...\n",
       "5967    [Noooooo, I, was, hoping, to, see, Zlatan, bei...\n",
       "Name: Tweet, Length: 5421, dtype: object"
      ]
     },
     "execution_count": 241,
     "metadata": {},
     "output_type": "execute_result"
    }
   ],
   "source": [
    "# Function which directly tokenize the tweet data\n",
    "from nltk.tokenize import TweetTokenizer\n",
    "\n",
    "tt = TweetTokenizer()\n",
    "train_data['Tweet'].apply(tt.tokenize)"
   ]
  },
  {
   "cell_type": "code",
   "execution_count": 242,
   "metadata": {},
   "outputs": [],
   "source": [
    "#Note that Stemmers remove morphological affixes from words, leaving only the word stem. \n",
    "from nltk.stem import PorterStemmer\n",
    "from nltk.tokenize import sent_tokenize, word_tokenize\n",
    "\n",
    "ps = PorterStemmer()"
   ]
  },
  {
   "cell_type": "code",
   "execution_count": null,
   "metadata": {},
   "outputs": [],
   "source": []
  },
  {
   "cell_type": "code",
   "execution_count": 243,
   "metadata": {},
   "outputs": [],
   "source": [
    "def tokenize(text):\n",
    "    return word_tokenize(text)\n",
    "\n",
    "def stemming(words):\n",
    "    stem_words = []\n",
    "    for w in words:\n",
    "        w = ps.stem(w)\n",
    "        stem_words.append(w)\n",
    "    \n",
    "    return stem_words"
   ]
  },
  {
   "cell_type": "code",
   "execution_count": 244,
   "metadata": {},
   "outputs": [],
   "source": [
    "# apply tokenize function\n",
    "train_data['text'] = train_data['Tweet'].apply(tokenize)"
   ]
  },
  {
   "cell_type": "code",
   "execution_count": 245,
   "metadata": {},
   "outputs": [],
   "source": [
    "# apply steming function\n",
    "train_data['tokenized'] = train_data['text'].apply(stemming)"
   ]
  },
  {
   "cell_type": "code",
   "execution_count": 247,
   "metadata": {},
   "outputs": [
    {
     "data": {
      "text/html": [
       "<div>\n",
       "<style scoped>\n",
       "    .dataframe tbody tr th:only-of-type {\n",
       "        vertical-align: middle;\n",
       "    }\n",
       "\n",
       "    .dataframe tbody tr th {\n",
       "        vertical-align: top;\n",
       "    }\n",
       "\n",
       "    .dataframe thead th {\n",
       "        text-align: right;\n",
       "    }\n",
       "</style>\n",
       "<table border=\"1\" class=\"dataframe\">\n",
       "  <thead>\n",
       "    <tr style=\"text-align: right;\">\n",
       "      <th></th>\n",
       "      <th>Id</th>\n",
       "      <th>emotion</th>\n",
       "      <th>Tweet</th>\n",
       "      <th>text</th>\n",
       "      <th>tokenized</th>\n",
       "    </tr>\n",
       "  </thead>\n",
       "  <tbody>\n",
       "    <tr>\n",
       "      <th>1</th>\n",
       "      <td>635930169241374720</td>\n",
       "      <td>neutral</td>\n",
       "      <td>IOS  App Transport Security Mm need to check i...</td>\n",
       "      <td>[IOS, App, Transport, Security, Mm, need, to, ...</td>\n",
       "      <td>[io, app, transport, secur, Mm, need, to, chec...</td>\n",
       "    </tr>\n",
       "    <tr>\n",
       "      <th>2</th>\n",
       "      <td>635950258682523648</td>\n",
       "      <td>neutral</td>\n",
       "      <td>Mar if you have an iOS device you should downl...</td>\n",
       "      <td>[Mar, if, you, have, an, iOS, device, you, sho...</td>\n",
       "      <td>[mar, if, you, have, an, io, devic, you, shoul...</td>\n",
       "    </tr>\n",
       "    <tr>\n",
       "      <th>3</th>\n",
       "      <td>636030803433009153</td>\n",
       "      <td>negative</td>\n",
       "      <td>my phone does not run on latest IOS which may ...</td>\n",
       "      <td>[my, phone, does, not, run, on, latest, IOS, w...</td>\n",
       "      <td>[my, phone, doe, not, run, on, latest, io, whi...</td>\n",
       "    </tr>\n",
       "    <tr>\n",
       "      <th>4</th>\n",
       "      <td>636100906224848896</td>\n",
       "      <td>positive</td>\n",
       "      <td>Not sure how to start your publication on iOS ...</td>\n",
       "      <td>[Not, sure, how, to, start, your, publication,...</td>\n",
       "      <td>[not, sure, how, to, start, your, public, on, ...</td>\n",
       "    </tr>\n",
       "    <tr>\n",
       "      <th>5</th>\n",
       "      <td>636176272947744772</td>\n",
       "      <td>neutral</td>\n",
       "      <td>Two Dollar Tuesday is here with Forklift  Quic...</td>\n",
       "      <td>[Two, Dollar, Tuesday, is, here, with, Forklif...</td>\n",
       "      <td>[two, dollar, tuesday, is, here, with, forklif...</td>\n",
       "    </tr>\n",
       "  </tbody>\n",
       "</table>\n",
       "</div>"
      ],
      "text/plain": [
       "                   Id   emotion  \\\n",
       "1  635930169241374720   neutral   \n",
       "2  635950258682523648   neutral   \n",
       "3  636030803433009153  negative   \n",
       "4  636100906224848896  positive   \n",
       "5  636176272947744772   neutral   \n",
       "\n",
       "                                               Tweet  \\\n",
       "1  IOS  App Transport Security Mm need to check i...   \n",
       "2  Mar if you have an iOS device you should downl...   \n",
       "3  my phone does not run on latest IOS which may ...   \n",
       "4  Not sure how to start your publication on iOS ...   \n",
       "5  Two Dollar Tuesday is here with Forklift  Quic...   \n",
       "\n",
       "                                                text  \\\n",
       "1  [IOS, App, Transport, Security, Mm, need, to, ...   \n",
       "2  [Mar, if, you, have, an, iOS, device, you, sho...   \n",
       "3  [my, phone, does, not, run, on, latest, IOS, w...   \n",
       "4  [Not, sure, how, to, start, your, publication,...   \n",
       "5  [Two, Dollar, Tuesday, is, here, with, Forklif...   \n",
       "\n",
       "                                           tokenized  \n",
       "1  [io, app, transport, secur, Mm, need, to, chec...  \n",
       "2  [mar, if, you, have, an, io, devic, you, shoul...  \n",
       "3  [my, phone, doe, not, run, on, latest, io, whi...  \n",
       "4  [not, sure, how, to, start, your, public, on, ...  \n",
       "5  [two, dollar, tuesday, is, here, with, forklif...  "
      ]
     },
     "execution_count": 247,
     "metadata": {},
     "output_type": "execute_result"
    }
   ],
   "source": [
    "train_data.head()"
   ]
  },
  {
   "cell_type": "code",
   "execution_count": 251,
   "metadata": {},
   "outputs": [
    {
     "data": {
      "text/plain": [
       "5421"
      ]
     },
     "execution_count": 251,
     "metadata": {},
     "output_type": "execute_result"
    }
   ],
   "source": [
    "len(train_data)"
   ]
  },
  {
   "cell_type": "markdown",
   "metadata": {},
   "source": [
    "## Wordlist"
   ]
  },
  {
   "cell_type": "code",
   "execution_count": 253,
   "metadata": {},
   "outputs": [
    {
     "data": {
      "text/plain": [
       "[('the', 3960), ('to', 2466), ('a', 1591), ('on', 1518), ('I', 1496)]"
      ]
     },
     "execution_count": 253,
     "metadata": {},
     "output_type": "execute_result"
    }
   ],
   "source": [
    "#NLTK Language Model Counter \n",
    "words = Counter()\n",
    "for idx in train_data.index:\n",
    "    words.update(train_data.loc[idx, \"text\"])\n",
    "\n",
    "words.most_common(5)"
   ]
  },
  {
   "cell_type": "code",
   "execution_count": 283,
   "metadata": {},
   "outputs": [
    {
     "name": "stderr",
     "output_type": "stream",
     "text": [
      "[nltk_data] Downloading package stopwords to\n",
      "[nltk_data]     /Users/sphinx/nltk_data...\n",
      "[nltk_data]   Package stopwords is already up-to-date!\n"
     ]
    }
   ],
   "source": [
    "#corpus a text body \n",
    "nltk.download('stopwords')\n",
    "stopwords=nltk.corpus.stopwords.words(\"english\")"
   ]
  },
  {
   "cell_type": "code",
   "execution_count": 284,
   "metadata": {},
   "outputs": [],
   "source": [
    "#Lets check how many lang corpus can support:"
   ]
  },
  {
   "cell_type": "code",
   "execution_count": 285,
   "metadata": {},
   "outputs": [
    {
     "data": {
      "text/plain": [
       "['arabic',\n",
       " 'azerbaijani',\n",
       " 'danish',\n",
       " 'dutch',\n",
       " 'english',\n",
       " 'finnish',\n",
       " 'french',\n",
       " 'german',\n",
       " 'greek',\n",
       " 'hungarian',\n",
       " 'indonesian',\n",
       " 'italian',\n",
       " 'kazakh',\n",
       " 'nepali',\n",
       " 'norwegian',\n",
       " 'portuguese',\n",
       " 'romanian',\n",
       " 'russian',\n",
       " 'slovene',\n",
       " 'spanish',\n",
       " 'swedish',\n",
       " 'tajik',\n",
       " 'turkish']"
      ]
     },
     "execution_count": 285,
     "metadata": {},
     "output_type": "execute_result"
    }
   ],
   "source": [
    "nltk.corpus.stopwords.fileids()"
   ]
  },
  {
   "cell_type": "code",
   "execution_count": 286,
   "metadata": {},
   "outputs": [
    {
     "data": {
      "text/plain": [
       "[\"n't\", 'not']"
      ]
     },
     "execution_count": 286,
     "metadata": {},
     "output_type": "execute_result"
    }
   ],
   "source": [
    "whitelist = [\"n't\", \"not\"]\n",
    "whitelist"
   ]
  },
  {
   "cell_type": "code",
   "execution_count": 287,
   "metadata": {},
   "outputs": [
    {
     "data": {
      "text/plain": [
       "['i',\n",
       " 'me',\n",
       " 'my',\n",
       " 'myself',\n",
       " 'we',\n",
       " 'our',\n",
       " 'ours',\n",
       " 'ourselves',\n",
       " 'you',\n",
       " \"you're\",\n",
       " \"you've\",\n",
       " \"you'll\",\n",
       " \"you'd\",\n",
       " 'your',\n",
       " 'yours',\n",
       " 'yourself',\n",
       " 'yourselves',\n",
       " 'he',\n",
       " 'him',\n",
       " 'his',\n",
       " 'himself',\n",
       " 'she',\n",
       " \"she's\",\n",
       " 'her',\n",
       " 'hers',\n",
       " 'herself',\n",
       " 'it',\n",
       " \"it's\",\n",
       " 'its',\n",
       " 'itself',\n",
       " 'they',\n",
       " 'them',\n",
       " 'their',\n",
       " 'theirs',\n",
       " 'themselves',\n",
       " 'what',\n",
       " 'which',\n",
       " 'who',\n",
       " 'whom',\n",
       " 'this',\n",
       " 'that',\n",
       " \"that'll\",\n",
       " 'these',\n",
       " 'those',\n",
       " 'am',\n",
       " 'is',\n",
       " 'are',\n",
       " 'was',\n",
       " 'were',\n",
       " 'be',\n",
       " 'been',\n",
       " 'being',\n",
       " 'have',\n",
       " 'has',\n",
       " 'had',\n",
       " 'having',\n",
       " 'do',\n",
       " 'does',\n",
       " 'did',\n",
       " 'doing',\n",
       " 'a',\n",
       " 'an',\n",
       " 'the',\n",
       " 'and',\n",
       " 'but',\n",
       " 'if',\n",
       " 'or',\n",
       " 'because',\n",
       " 'as',\n",
       " 'until',\n",
       " 'while',\n",
       " 'of',\n",
       " 'at',\n",
       " 'by',\n",
       " 'for',\n",
       " 'with',\n",
       " 'about',\n",
       " 'against',\n",
       " 'between',\n",
       " 'into',\n",
       " 'through',\n",
       " 'during',\n",
       " 'before',\n",
       " 'after',\n",
       " 'above',\n",
       " 'below',\n",
       " 'to',\n",
       " 'from',\n",
       " 'up',\n",
       " 'down',\n",
       " 'in',\n",
       " 'out',\n",
       " 'on',\n",
       " 'off',\n",
       " 'over',\n",
       " 'under',\n",
       " 'again',\n",
       " 'further',\n",
       " 'then',\n",
       " 'once',\n",
       " 'here',\n",
       " 'there',\n",
       " 'when',\n",
       " 'where',\n",
       " 'why',\n",
       " 'how',\n",
       " 'all',\n",
       " 'any',\n",
       " 'both',\n",
       " 'each',\n",
       " 'few',\n",
       " 'more',\n",
       " 'most',\n",
       " 'other',\n",
       " 'some',\n",
       " 'such',\n",
       " 'no',\n",
       " 'nor',\n",
       " 'not',\n",
       " 'only',\n",
       " 'own',\n",
       " 'same',\n",
       " 'so',\n",
       " 'than',\n",
       " 'too',\n",
       " 'very',\n",
       " 's',\n",
       " 't',\n",
       " 'can',\n",
       " 'will',\n",
       " 'just',\n",
       " 'don',\n",
       " \"don't\",\n",
       " 'should',\n",
       " \"should've\",\n",
       " 'now',\n",
       " 'd',\n",
       " 'll',\n",
       " 'm',\n",
       " 'o',\n",
       " 're',\n",
       " 've',\n",
       " 'y',\n",
       " 'ain',\n",
       " 'aren',\n",
       " \"aren't\",\n",
       " 'couldn',\n",
       " \"couldn't\",\n",
       " 'didn',\n",
       " \"didn't\",\n",
       " 'doesn',\n",
       " \"doesn't\",\n",
       " 'hadn',\n",
       " \"hadn't\",\n",
       " 'hasn',\n",
       " \"hasn't\",\n",
       " 'haven',\n",
       " \"haven't\",\n",
       " 'isn',\n",
       " \"isn't\",\n",
       " 'ma',\n",
       " 'mightn',\n",
       " \"mightn't\",\n",
       " 'mustn',\n",
       " \"mustn't\",\n",
       " 'needn',\n",
       " \"needn't\",\n",
       " 'shan',\n",
       " \"shan't\",\n",
       " 'shouldn',\n",
       " \"shouldn't\",\n",
       " 'wasn',\n",
       " \"wasn't\",\n",
       " 'weren',\n",
       " \"weren't\",\n",
       " 'won',\n",
       " \"won't\",\n",
       " 'wouldn',\n",
       " \"wouldn't\"]"
      ]
     },
     "execution_count": 287,
     "metadata": {},
     "output_type": "execute_result"
    }
   ],
   "source": [
    "stopwords"
   ]
  },
  {
   "cell_type": "code",
   "execution_count": 288,
   "metadata": {},
   "outputs": [
    {
     "data": {
      "text/plain": [
       "[('I', 1496),\n",
       " ('may', 914),\n",
       " ('th', 671),\n",
       " ('tomorrow', 651),\n",
       " ('not', 372),\n",
       " ('st', 368),\n",
       " ('Im', 339),\n",
       " ('see', 316),\n",
       " ('The', 313),\n",
       " ('time', 310)]"
      ]
     },
     "execution_count": 288,
     "metadata": {},
     "output_type": "execute_result"
    }
   ],
   "source": [
    "for idx, stop_word in enumerate(stopwords):\n",
    "    if stop_word not in whitelist:\n",
    "        del words[stop_word]\n",
    "words.most_common(10)"
   ]
  },
  {
   "cell_type": "code",
   "execution_count": null,
   "metadata": {},
   "outputs": [],
   "source": [
    "#How about you plot a WordMap"
   ]
  },
  {
   "cell_type": "code",
   "execution_count": 289,
   "metadata": {},
   "outputs": [],
   "source": [
    "def word_list(processed_data):\n",
    "    #print(processed_data)\n",
    "    min_occurrences=3 \n",
    "    max_occurences=500 \n",
    "    stopwords=nltk.corpus.stopwords.words(\"english\")\n",
    "    whitelist = [\"n't\",\"not\"]\n",
    "    wordlist = []\n",
    "    \n",
    "    whitelist = whitelist if whitelist is None else whitelist\n",
    "   # print(whitelist)\n",
    "    words = Counter()\n",
    "    for idx in processed_data.index:\n",
    "        words.update(processed_data.loc[idx, \"text\"])\n",
    "\n",
    "    for idx, stop_word in enumerate(stopwords):\n",
    "        if stop_word not in whitelist:\n",
    "            del words[stop_word]\n",
    "    #print(words)\n",
    "\n",
    "    word_df = pd.DataFrame(data={\"word\": [k for k, v in words.most_common() if min_occurrences < v < max_occurences],\n",
    "                                 \"occurrences\": [v for k, v in words.most_common() if min_occurrences < v < max_occurences]},\n",
    "                           columns=[\"word\", \"occurrences\"])\n",
    "    #print(word_df)\n",
    "    word_df.to_csv(\"wordlist.csv\", index_label=\"idx\")\n",
    "    wordlist = [k for k, v in words.most_common() if min_occurrences < v < max_occurences]\n",
    "    #print(wordlist)"
   ]
  },
  {
   "cell_type": "code",
   "execution_count": 290,
   "metadata": {},
   "outputs": [],
   "source": [
    "word_list(train_data)"
   ]
  },
  {
   "cell_type": "code",
   "execution_count": 176,
   "metadata": {},
   "outputs": [],
   "source": [
    "words = pd.read_csv(\"wordlist.csv\")"
   ]
  },
  {
   "cell_type": "markdown",
   "metadata": {},
   "source": [
    "## Bag of Words Model"
   ]
  },
  {
   "cell_type": "code",
   "execution_count": null,
   "metadata": {},
   "outputs": [],
   "source": [
    "#A bag-of-words model, or BoW for short, is a way of extracting features from the text for use in modeling, such as with machine learning algorithms.\n",
    "#The approach is very simple and flexible and can be used in a myriad of ways for extracting features from documents.\n",
    "#The wordlist (dictionary) is build by simple count of occurences of every unique word across all of the training dataset."
   ]
  },
  {
   "cell_type": "code",
   "execution_count": 291,
   "metadata": {},
   "outputs": [],
   "source": [
    "import os"
   ]
  },
  {
   "cell_type": "code",
   "execution_count": 296,
   "metadata": {},
   "outputs": [],
   "source": [
    "wordlist= []\n",
    "if os.path.isfile(\"wordlist.csv\"):\n",
    "    word_df = pd.read_csv(\"wordlist.csv\")\n",
    "    word_df = word_df[word_df[\"occurrences\"] > 3]\n",
    "    wordlist = list(word_df.loc[:, \"word\"])\n",
    "\n",
    "label_column = [\"label\"]\n",
    "columns = label_column + list(map(lambda w: w + \"_bow\",wordlist))\n",
    "labels = []\n",
    "rows = []\n",
    "for idx in train_data.index:\n",
    "    current_row = []\n",
    "    \n",
    "    # add label\n",
    "    current_label = train_data.loc[idx, \"emotion\"]\n",
    "    labels.append(current_label)\n",
    "    current_row.append(current_label)\n",
    "\n",
    "    # add bag-of-words\n",
    "    tokens = set(train_data.loc[idx, \"text\"])\n",
    "    for _, word in enumerate(wordlist):\n",
    "        current_row.append(1 if word in tokens else 0)\n",
    "\n",
    "    rows.append(current_row)\n",
    "\n",
    "data_model = pd.DataFrame(rows, columns=columns)\n",
    "data_labels = pd.Series(labels)\n",
    "\n",
    "\n",
    "bow = data_model"
   ]
  },
  {
   "cell_type": "code",
   "execution_count": 298,
   "metadata": {},
   "outputs": [
    {
     "data": {
      "text/plain": [
       "{'I',\n",
       " 'Noooooo',\n",
       " 'Oh',\n",
       " 'Tuesday',\n",
       " 'Zlatan',\n",
       " 'being',\n",
       " 'forward',\n",
       " 'hoping',\n",
       " 'in',\n",
       " 'looking',\n",
       " 'match',\n",
       " 'see',\n",
       " 'still',\n",
       " 'the',\n",
       " 'to',\n",
       " 'was',\n",
       " 'well'}"
      ]
     },
     "execution_count": 298,
     "metadata": {},
     "output_type": "execute_result"
    }
   ],
   "source": [
    "tokens # 1 if word in tokens "
   ]
  },
  {
   "cell_type": "code",
   "execution_count": 302,
   "metadata": {},
   "outputs": [
    {
     "data": {
      "text/html": [
       "<div>\n",
       "<style scoped>\n",
       "    .dataframe tbody tr th:only-of-type {\n",
       "        vertical-align: middle;\n",
       "    }\n",
       "\n",
       "    .dataframe tbody tr th {\n",
       "        vertical-align: top;\n",
       "    }\n",
       "\n",
       "    .dataframe thead th {\n",
       "        text-align: right;\n",
       "    }\n",
       "</style>\n",
       "<table border=\"1\" class=\"dataframe\">\n",
       "  <thead>\n",
       "    <tr style=\"text-align: right;\">\n",
       "      <th></th>\n",
       "      <th>label</th>\n",
       "      <th>not_bow</th>\n",
       "      <th>st_bow</th>\n",
       "      <th>Im_bow</th>\n",
       "      <th>see_bow</th>\n",
       "      <th>The_bow</th>\n",
       "      <th>time_bow</th>\n",
       "      <th>amp_bow</th>\n",
       "      <th>like_bow</th>\n",
       "      <th>going_bow</th>\n",
       "      <th>...</th>\n",
       "      <th>Prime_bow</th>\n",
       "      <th>Minister_bow</th>\n",
       "      <th>Alexis_bow</th>\n",
       "      <th>Hollande_bow</th>\n",
       "      <th>parliament_bow</th>\n",
       "      <th>Deadpool_bow</th>\n",
       "      <th>girlfriend_bow</th>\n",
       "      <th>Castle_bow</th>\n",
       "      <th>Cavani_bow</th>\n",
       "      <th>fiddle_bow</th>\n",
       "    </tr>\n",
       "  </thead>\n",
       "  <tbody>\n",
       "    <tr>\n",
       "      <th>0</th>\n",
       "      <td>neutral</td>\n",
       "      <td>0</td>\n",
       "      <td>0</td>\n",
       "      <td>0</td>\n",
       "      <td>0</td>\n",
       "      <td>0</td>\n",
       "      <td>0</td>\n",
       "      <td>0</td>\n",
       "      <td>0</td>\n",
       "      <td>0</td>\n",
       "      <td>...</td>\n",
       "      <td>0</td>\n",
       "      <td>0</td>\n",
       "      <td>0</td>\n",
       "      <td>0</td>\n",
       "      <td>0</td>\n",
       "      <td>0</td>\n",
       "      <td>0</td>\n",
       "      <td>0</td>\n",
       "      <td>0</td>\n",
       "      <td>0</td>\n",
       "    </tr>\n",
       "    <tr>\n",
       "      <th>1</th>\n",
       "      <td>neutral</td>\n",
       "      <td>0</td>\n",
       "      <td>0</td>\n",
       "      <td>0</td>\n",
       "      <td>0</td>\n",
       "      <td>0</td>\n",
       "      <td>0</td>\n",
       "      <td>0</td>\n",
       "      <td>0</td>\n",
       "      <td>0</td>\n",
       "      <td>...</td>\n",
       "      <td>0</td>\n",
       "      <td>0</td>\n",
       "      <td>0</td>\n",
       "      <td>0</td>\n",
       "      <td>0</td>\n",
       "      <td>0</td>\n",
       "      <td>0</td>\n",
       "      <td>0</td>\n",
       "      <td>0</td>\n",
       "      <td>0</td>\n",
       "    </tr>\n",
       "    <tr>\n",
       "      <th>2</th>\n",
       "      <td>negative</td>\n",
       "      <td>1</td>\n",
       "      <td>0</td>\n",
       "      <td>0</td>\n",
       "      <td>0</td>\n",
       "      <td>0</td>\n",
       "      <td>1</td>\n",
       "      <td>0</td>\n",
       "      <td>0</td>\n",
       "      <td>0</td>\n",
       "      <td>...</td>\n",
       "      <td>0</td>\n",
       "      <td>0</td>\n",
       "      <td>0</td>\n",
       "      <td>0</td>\n",
       "      <td>0</td>\n",
       "      <td>0</td>\n",
       "      <td>0</td>\n",
       "      <td>0</td>\n",
       "      <td>0</td>\n",
       "      <td>0</td>\n",
       "    </tr>\n",
       "    <tr>\n",
       "      <th>3</th>\n",
       "      <td>positive</td>\n",
       "      <td>0</td>\n",
       "      <td>0</td>\n",
       "      <td>0</td>\n",
       "      <td>0</td>\n",
       "      <td>0</td>\n",
       "      <td>0</td>\n",
       "      <td>0</td>\n",
       "      <td>0</td>\n",
       "      <td>0</td>\n",
       "      <td>...</td>\n",
       "      <td>0</td>\n",
       "      <td>0</td>\n",
       "      <td>0</td>\n",
       "      <td>0</td>\n",
       "      <td>0</td>\n",
       "      <td>0</td>\n",
       "      <td>0</td>\n",
       "      <td>0</td>\n",
       "      <td>0</td>\n",
       "      <td>0</td>\n",
       "    </tr>\n",
       "    <tr>\n",
       "      <th>4</th>\n",
       "      <td>neutral</td>\n",
       "      <td>0</td>\n",
       "      <td>0</td>\n",
       "      <td>0</td>\n",
       "      <td>0</td>\n",
       "      <td>0</td>\n",
       "      <td>0</td>\n",
       "      <td>0</td>\n",
       "      <td>0</td>\n",
       "      <td>0</td>\n",
       "      <td>...</td>\n",
       "      <td>0</td>\n",
       "      <td>0</td>\n",
       "      <td>0</td>\n",
       "      <td>0</td>\n",
       "      <td>0</td>\n",
       "      <td>0</td>\n",
       "      <td>0</td>\n",
       "      <td>0</td>\n",
       "      <td>0</td>\n",
       "      <td>0</td>\n",
       "    </tr>\n",
       "    <tr>\n",
       "      <th>5</th>\n",
       "      <td>neutral</td>\n",
       "      <td>1</td>\n",
       "      <td>0</td>\n",
       "      <td>0</td>\n",
       "      <td>0</td>\n",
       "      <td>0</td>\n",
       "      <td>0</td>\n",
       "      <td>0</td>\n",
       "      <td>0</td>\n",
       "      <td>0</td>\n",
       "      <td>...</td>\n",
       "      <td>0</td>\n",
       "      <td>0</td>\n",
       "      <td>0</td>\n",
       "      <td>0</td>\n",
       "      <td>0</td>\n",
       "      <td>0</td>\n",
       "      <td>0</td>\n",
       "      <td>0</td>\n",
       "      <td>0</td>\n",
       "      <td>0</td>\n",
       "    </tr>\n",
       "    <tr>\n",
       "      <th>6</th>\n",
       "      <td>neutral</td>\n",
       "      <td>0</td>\n",
       "      <td>0</td>\n",
       "      <td>0</td>\n",
       "      <td>0</td>\n",
       "      <td>0</td>\n",
       "      <td>0</td>\n",
       "      <td>0</td>\n",
       "      <td>0</td>\n",
       "      <td>1</td>\n",
       "      <td>...</td>\n",
       "      <td>0</td>\n",
       "      <td>0</td>\n",
       "      <td>0</td>\n",
       "      <td>0</td>\n",
       "      <td>0</td>\n",
       "      <td>0</td>\n",
       "      <td>0</td>\n",
       "      <td>0</td>\n",
       "      <td>0</td>\n",
       "      <td>0</td>\n",
       "    </tr>\n",
       "    <tr>\n",
       "      <th>7</th>\n",
       "      <td>neutral</td>\n",
       "      <td>0</td>\n",
       "      <td>0</td>\n",
       "      <td>0</td>\n",
       "      <td>0</td>\n",
       "      <td>0</td>\n",
       "      <td>0</td>\n",
       "      <td>0</td>\n",
       "      <td>0</td>\n",
       "      <td>0</td>\n",
       "      <td>...</td>\n",
       "      <td>0</td>\n",
       "      <td>0</td>\n",
       "      <td>0</td>\n",
       "      <td>0</td>\n",
       "      <td>0</td>\n",
       "      <td>0</td>\n",
       "      <td>0</td>\n",
       "      <td>0</td>\n",
       "      <td>0</td>\n",
       "      <td>0</td>\n",
       "    </tr>\n",
       "    <tr>\n",
       "      <th>8</th>\n",
       "      <td>neutral</td>\n",
       "      <td>0</td>\n",
       "      <td>0</td>\n",
       "      <td>0</td>\n",
       "      <td>0</td>\n",
       "      <td>0</td>\n",
       "      <td>0</td>\n",
       "      <td>0</td>\n",
       "      <td>0</td>\n",
       "      <td>0</td>\n",
       "      <td>...</td>\n",
       "      <td>0</td>\n",
       "      <td>0</td>\n",
       "      <td>0</td>\n",
       "      <td>0</td>\n",
       "      <td>0</td>\n",
       "      <td>0</td>\n",
       "      <td>0</td>\n",
       "      <td>0</td>\n",
       "      <td>0</td>\n",
       "      <td>0</td>\n",
       "    </tr>\n",
       "    <tr>\n",
       "      <th>9</th>\n",
       "      <td>positive</td>\n",
       "      <td>0</td>\n",
       "      <td>0</td>\n",
       "      <td>0</td>\n",
       "      <td>0</td>\n",
       "      <td>0</td>\n",
       "      <td>0</td>\n",
       "      <td>1</td>\n",
       "      <td>0</td>\n",
       "      <td>0</td>\n",
       "      <td>...</td>\n",
       "      <td>0</td>\n",
       "      <td>0</td>\n",
       "      <td>0</td>\n",
       "      <td>0</td>\n",
       "      <td>0</td>\n",
       "      <td>0</td>\n",
       "      <td>0</td>\n",
       "      <td>0</td>\n",
       "      <td>0</td>\n",
       "      <td>0</td>\n",
       "    </tr>\n",
       "    <tr>\n",
       "      <th>10</th>\n",
       "      <td>positive</td>\n",
       "      <td>0</td>\n",
       "      <td>0</td>\n",
       "      <td>0</td>\n",
       "      <td>0</td>\n",
       "      <td>0</td>\n",
       "      <td>0</td>\n",
       "      <td>0</td>\n",
       "      <td>0</td>\n",
       "      <td>0</td>\n",
       "      <td>...</td>\n",
       "      <td>0</td>\n",
       "      <td>0</td>\n",
       "      <td>0</td>\n",
       "      <td>0</td>\n",
       "      <td>0</td>\n",
       "      <td>0</td>\n",
       "      <td>0</td>\n",
       "      <td>0</td>\n",
       "      <td>0</td>\n",
       "      <td>0</td>\n",
       "    </tr>\n",
       "    <tr>\n",
       "      <th>11</th>\n",
       "      <td>positive</td>\n",
       "      <td>0</td>\n",
       "      <td>0</td>\n",
       "      <td>0</td>\n",
       "      <td>0</td>\n",
       "      <td>0</td>\n",
       "      <td>0</td>\n",
       "      <td>0</td>\n",
       "      <td>0</td>\n",
       "      <td>0</td>\n",
       "      <td>...</td>\n",
       "      <td>0</td>\n",
       "      <td>0</td>\n",
       "      <td>0</td>\n",
       "      <td>0</td>\n",
       "      <td>0</td>\n",
       "      <td>0</td>\n",
       "      <td>0</td>\n",
       "      <td>0</td>\n",
       "      <td>0</td>\n",
       "      <td>0</td>\n",
       "    </tr>\n",
       "    <tr>\n",
       "      <th>12</th>\n",
       "      <td>positive</td>\n",
       "      <td>0</td>\n",
       "      <td>0</td>\n",
       "      <td>0</td>\n",
       "      <td>0</td>\n",
       "      <td>0</td>\n",
       "      <td>0</td>\n",
       "      <td>0</td>\n",
       "      <td>0</td>\n",
       "      <td>0</td>\n",
       "      <td>...</td>\n",
       "      <td>0</td>\n",
       "      <td>0</td>\n",
       "      <td>0</td>\n",
       "      <td>0</td>\n",
       "      <td>0</td>\n",
       "      <td>0</td>\n",
       "      <td>0</td>\n",
       "      <td>0</td>\n",
       "      <td>0</td>\n",
       "      <td>0</td>\n",
       "    </tr>\n",
       "    <tr>\n",
       "      <th>13</th>\n",
       "      <td>positive</td>\n",
       "      <td>0</td>\n",
       "      <td>0</td>\n",
       "      <td>0</td>\n",
       "      <td>0</td>\n",
       "      <td>0</td>\n",
       "      <td>0</td>\n",
       "      <td>0</td>\n",
       "      <td>0</td>\n",
       "      <td>1</td>\n",
       "      <td>...</td>\n",
       "      <td>0</td>\n",
       "      <td>0</td>\n",
       "      <td>0</td>\n",
       "      <td>0</td>\n",
       "      <td>0</td>\n",
       "      <td>0</td>\n",
       "      <td>0</td>\n",
       "      <td>0</td>\n",
       "      <td>0</td>\n",
       "      <td>0</td>\n",
       "    </tr>\n",
       "    <tr>\n",
       "      <th>14</th>\n",
       "      <td>positive</td>\n",
       "      <td>0</td>\n",
       "      <td>0</td>\n",
       "      <td>0</td>\n",
       "      <td>0</td>\n",
       "      <td>0</td>\n",
       "      <td>0</td>\n",
       "      <td>0</td>\n",
       "      <td>0</td>\n",
       "      <td>0</td>\n",
       "      <td>...</td>\n",
       "      <td>0</td>\n",
       "      <td>0</td>\n",
       "      <td>0</td>\n",
       "      <td>0</td>\n",
       "      <td>0</td>\n",
       "      <td>0</td>\n",
       "      <td>0</td>\n",
       "      <td>0</td>\n",
       "      <td>0</td>\n",
       "      <td>0</td>\n",
       "    </tr>\n",
       "    <tr>\n",
       "      <th>15</th>\n",
       "      <td>positive</td>\n",
       "      <td>0</td>\n",
       "      <td>0</td>\n",
       "      <td>0</td>\n",
       "      <td>0</td>\n",
       "      <td>0</td>\n",
       "      <td>1</td>\n",
       "      <td>0</td>\n",
       "      <td>0</td>\n",
       "      <td>0</td>\n",
       "      <td>...</td>\n",
       "      <td>0</td>\n",
       "      <td>0</td>\n",
       "      <td>0</td>\n",
       "      <td>0</td>\n",
       "      <td>0</td>\n",
       "      <td>0</td>\n",
       "      <td>0</td>\n",
       "      <td>0</td>\n",
       "      <td>0</td>\n",
       "      <td>0</td>\n",
       "    </tr>\n",
       "    <tr>\n",
       "      <th>16</th>\n",
       "      <td>neutral</td>\n",
       "      <td>0</td>\n",
       "      <td>0</td>\n",
       "      <td>0</td>\n",
       "      <td>0</td>\n",
       "      <td>0</td>\n",
       "      <td>0</td>\n",
       "      <td>0</td>\n",
       "      <td>0</td>\n",
       "      <td>0</td>\n",
       "      <td>...</td>\n",
       "      <td>0</td>\n",
       "      <td>0</td>\n",
       "      <td>0</td>\n",
       "      <td>0</td>\n",
       "      <td>0</td>\n",
       "      <td>0</td>\n",
       "      <td>0</td>\n",
       "      <td>0</td>\n",
       "      <td>0</td>\n",
       "      <td>0</td>\n",
       "    </tr>\n",
       "    <tr>\n",
       "      <th>17</th>\n",
       "      <td>positive</td>\n",
       "      <td>0</td>\n",
       "      <td>0</td>\n",
       "      <td>0</td>\n",
       "      <td>0</td>\n",
       "      <td>0</td>\n",
       "      <td>0</td>\n",
       "      <td>1</td>\n",
       "      <td>0</td>\n",
       "      <td>0</td>\n",
       "      <td>...</td>\n",
       "      <td>0</td>\n",
       "      <td>0</td>\n",
       "      <td>0</td>\n",
       "      <td>0</td>\n",
       "      <td>0</td>\n",
       "      <td>0</td>\n",
       "      <td>0</td>\n",
       "      <td>0</td>\n",
       "      <td>0</td>\n",
       "      <td>0</td>\n",
       "    </tr>\n",
       "    <tr>\n",
       "      <th>18</th>\n",
       "      <td>positive</td>\n",
       "      <td>0</td>\n",
       "      <td>0</td>\n",
       "      <td>0</td>\n",
       "      <td>0</td>\n",
       "      <td>0</td>\n",
       "      <td>0</td>\n",
       "      <td>0</td>\n",
       "      <td>0</td>\n",
       "      <td>0</td>\n",
       "      <td>...</td>\n",
       "      <td>0</td>\n",
       "      <td>0</td>\n",
       "      <td>0</td>\n",
       "      <td>0</td>\n",
       "      <td>0</td>\n",
       "      <td>0</td>\n",
       "      <td>0</td>\n",
       "      <td>0</td>\n",
       "      <td>0</td>\n",
       "      <td>0</td>\n",
       "    </tr>\n",
       "    <tr>\n",
       "      <th>19</th>\n",
       "      <td>positive</td>\n",
       "      <td>0</td>\n",
       "      <td>0</td>\n",
       "      <td>0</td>\n",
       "      <td>0</td>\n",
       "      <td>0</td>\n",
       "      <td>0</td>\n",
       "      <td>0</td>\n",
       "      <td>0</td>\n",
       "      <td>0</td>\n",
       "      <td>...</td>\n",
       "      <td>0</td>\n",
       "      <td>0</td>\n",
       "      <td>0</td>\n",
       "      <td>0</td>\n",
       "      <td>0</td>\n",
       "      <td>0</td>\n",
       "      <td>0</td>\n",
       "      <td>0</td>\n",
       "      <td>0</td>\n",
       "      <td>0</td>\n",
       "    </tr>\n",
       "  </tbody>\n",
       "</table>\n",
       "<p>20 rows × 2622 columns</p>\n",
       "</div>"
      ],
      "text/plain": [
       "       label  not_bow  st_bow  Im_bow  see_bow  The_bow  time_bow  amp_bow  \\\n",
       "0    neutral        0       0       0        0        0         0        0   \n",
       "1    neutral        0       0       0        0        0         0        0   \n",
       "2   negative        1       0       0        0        0         1        0   \n",
       "3   positive        0       0       0        0        0         0        0   \n",
       "4    neutral        0       0       0        0        0         0        0   \n",
       "5    neutral        1       0       0        0        0         0        0   \n",
       "6    neutral        0       0       0        0        0         0        0   \n",
       "7    neutral        0       0       0        0        0         0        0   \n",
       "8    neutral        0       0       0        0        0         0        0   \n",
       "9   positive        0       0       0        0        0         0        1   \n",
       "10  positive        0       0       0        0        0         0        0   \n",
       "11  positive        0       0       0        0        0         0        0   \n",
       "12  positive        0       0       0        0        0         0        0   \n",
       "13  positive        0       0       0        0        0         0        0   \n",
       "14  positive        0       0       0        0        0         0        0   \n",
       "15  positive        0       0       0        0        0         1        0   \n",
       "16   neutral        0       0       0        0        0         0        0   \n",
       "17  positive        0       0       0        0        0         0        1   \n",
       "18  positive        0       0       0        0        0         0        0   \n",
       "19  positive        0       0       0        0        0         0        0   \n",
       "\n",
       "    like_bow  going_bow  ...  Prime_bow  Minister_bow  Alexis_bow  \\\n",
       "0          0          0  ...          0             0           0   \n",
       "1          0          0  ...          0             0           0   \n",
       "2          0          0  ...          0             0           0   \n",
       "3          0          0  ...          0             0           0   \n",
       "4          0          0  ...          0             0           0   \n",
       "5          0          0  ...          0             0           0   \n",
       "6          0          1  ...          0             0           0   \n",
       "7          0          0  ...          0             0           0   \n",
       "8          0          0  ...          0             0           0   \n",
       "9          0          0  ...          0             0           0   \n",
       "10         0          0  ...          0             0           0   \n",
       "11         0          0  ...          0             0           0   \n",
       "12         0          0  ...          0             0           0   \n",
       "13         0          1  ...          0             0           0   \n",
       "14         0          0  ...          0             0           0   \n",
       "15         0          0  ...          0             0           0   \n",
       "16         0          0  ...          0             0           0   \n",
       "17         0          0  ...          0             0           0   \n",
       "18         0          0  ...          0             0           0   \n",
       "19         0          0  ...          0             0           0   \n",
       "\n",
       "    Hollande_bow  parliament_bow  Deadpool_bow  girlfriend_bow  Castle_bow  \\\n",
       "0              0               0             0               0           0   \n",
       "1              0               0             0               0           0   \n",
       "2              0               0             0               0           0   \n",
       "3              0               0             0               0           0   \n",
       "4              0               0             0               0           0   \n",
       "5              0               0             0               0           0   \n",
       "6              0               0             0               0           0   \n",
       "7              0               0             0               0           0   \n",
       "8              0               0             0               0           0   \n",
       "9              0               0             0               0           0   \n",
       "10             0               0             0               0           0   \n",
       "11             0               0             0               0           0   \n",
       "12             0               0             0               0           0   \n",
       "13             0               0             0               0           0   \n",
       "14             0               0             0               0           0   \n",
       "15             0               0             0               0           0   \n",
       "16             0               0             0               0           0   \n",
       "17             0               0             0               0           0   \n",
       "18             0               0             0               0           0   \n",
       "19             0               0             0               0           0   \n",
       "\n",
       "    Cavani_bow  fiddle_bow  \n",
       "0            0           0  \n",
       "1            0           0  \n",
       "2            0           0  \n",
       "3            0           0  \n",
       "4            0           0  \n",
       "5            0           0  \n",
       "6            0           0  \n",
       "7            0           0  \n",
       "8            0           0  \n",
       "9            0           0  \n",
       "10           0           0  \n",
       "11           0           0  \n",
       "12           0           0  \n",
       "13           0           0  \n",
       "14           0           0  \n",
       "15           0           0  \n",
       "16           0           0  \n",
       "17           0           0  \n",
       "18           0           0  \n",
       "19           0           0  \n",
       "\n",
       "[20 rows x 2622 columns]"
      ]
     },
     "execution_count": 302,
     "metadata": {},
     "output_type": "execute_result"
    }
   ],
   "source": [
    "bow.head(20)"
   ]
  },
  {
   "cell_type": "markdown",
   "metadata": {},
   "source": [
    "## Classification"
   ]
  },
  {
   "cell_type": "code",
   "execution_count": 180,
   "metadata": {},
   "outputs": [],
   "source": [
    "import random\n",
    "seed = 777\n",
    "random.seed(seed)\n"
   ]
  },
  {
   "cell_type": "code",
   "execution_count": 303,
   "metadata": {},
   "outputs": [],
   "source": [
    "def test_classifier(X_train, y_train, X_test, y_test, classifier):\n",
    "    log(\"\")\n",
    "    log(\"---------------------------------------------------------\")\n",
    "    log(\"Testing \" + str(type(classifier).__name__))\n",
    "    now = time()\n",
    "    list_of_labels = sorted(list(set(y_train)))\n",
    "    model = classifier.fit(X_train, y_train)\n",
    "    log(\"Learing time {0}s\".format(time() - now))\n",
    "    now = time()\n",
    "    predictions = model.predict(X_test)\n",
    "    log(\"Predicting time {0}s\".format(time() - now))\n",
    "\n",
    "    # Calculate Accuracy, Precision, recall\n",
    "    \n",
    "    precision = precision_score(y_test, predictions, average=None, pos_label=None, labels=list_of_labels)\n",
    "    recall = recall_score(y_test, predictions, average=None, pos_label=None, labels=list_of_labels)\n",
    "    accuracy = accuracy_score(y_test, predictions)\n",
    "    f1 = f1_score(y_test, predictions, average=None, pos_label=None, labels=list_of_labels)\n",
    "    \n",
    "    log(\"=================== Results ===================\")\n",
    "    log(\"            Negative     Neutral     Positive\")\n",
    "    log(\"F1       \" + str(f1))\n",
    "    log(\"Precision\" + str(precision))\n",
    "    log(\"Recall   \" + str(recall))\n",
    "    log(\"Accuracy \" + str(accuracy))\n",
    "    log(\"===============================================\")\n",
    "\n",
    "    return precision, recall, accuracy, f1\n",
    "\n",
    "def log(x):\n",
    "    #can be used to write to log file\n",
    "    print(x)\n"
   ]
  },
  {
   "cell_type": "markdown",
   "metadata": {},
   "source": [
    "## Experiment 1: BOW + Naive Bayes"
   ]
  },
  {
   "cell_type": "code",
   "execution_count": 306,
   "metadata": {},
   "outputs": [
    {
     "data": {
      "text/html": [
       "<div>\n",
       "<style scoped>\n",
       "    .dataframe tbody tr th:only-of-type {\n",
       "        vertical-align: middle;\n",
       "    }\n",
       "\n",
       "    .dataframe tbody tr th {\n",
       "        vertical-align: top;\n",
       "    }\n",
       "\n",
       "    .dataframe thead th {\n",
       "        text-align: right;\n",
       "    }\n",
       "</style>\n",
       "<table border=\"1\" class=\"dataframe\">\n",
       "  <thead>\n",
       "    <tr style=\"text-align: right;\">\n",
       "      <th></th>\n",
       "      <th>not_bow</th>\n",
       "      <th>st_bow</th>\n",
       "      <th>Im_bow</th>\n",
       "      <th>see_bow</th>\n",
       "      <th>The_bow</th>\n",
       "      <th>time_bow</th>\n",
       "      <th>amp_bow</th>\n",
       "      <th>like_bow</th>\n",
       "      <th>going_bow</th>\n",
       "      <th>day_bow</th>\n",
       "      <th>...</th>\n",
       "      <th>Prime_bow</th>\n",
       "      <th>Minister_bow</th>\n",
       "      <th>Alexis_bow</th>\n",
       "      <th>Hollande_bow</th>\n",
       "      <th>parliament_bow</th>\n",
       "      <th>Deadpool_bow</th>\n",
       "      <th>girlfriend_bow</th>\n",
       "      <th>Castle_bow</th>\n",
       "      <th>Cavani_bow</th>\n",
       "      <th>fiddle_bow</th>\n",
       "    </tr>\n",
       "  </thead>\n",
       "  <tbody>\n",
       "    <tr>\n",
       "      <th>0</th>\n",
       "      <td>0</td>\n",
       "      <td>0</td>\n",
       "      <td>0</td>\n",
       "      <td>0</td>\n",
       "      <td>0</td>\n",
       "      <td>0</td>\n",
       "      <td>0</td>\n",
       "      <td>0</td>\n",
       "      <td>0</td>\n",
       "      <td>0</td>\n",
       "      <td>...</td>\n",
       "      <td>0</td>\n",
       "      <td>0</td>\n",
       "      <td>0</td>\n",
       "      <td>0</td>\n",
       "      <td>0</td>\n",
       "      <td>0</td>\n",
       "      <td>0</td>\n",
       "      <td>0</td>\n",
       "      <td>0</td>\n",
       "      <td>0</td>\n",
       "    </tr>\n",
       "    <tr>\n",
       "      <th>1</th>\n",
       "      <td>0</td>\n",
       "      <td>0</td>\n",
       "      <td>0</td>\n",
       "      <td>0</td>\n",
       "      <td>0</td>\n",
       "      <td>0</td>\n",
       "      <td>0</td>\n",
       "      <td>0</td>\n",
       "      <td>0</td>\n",
       "      <td>0</td>\n",
       "      <td>...</td>\n",
       "      <td>0</td>\n",
       "      <td>0</td>\n",
       "      <td>0</td>\n",
       "      <td>0</td>\n",
       "      <td>0</td>\n",
       "      <td>0</td>\n",
       "      <td>0</td>\n",
       "      <td>0</td>\n",
       "      <td>0</td>\n",
       "      <td>0</td>\n",
       "    </tr>\n",
       "    <tr>\n",
       "      <th>2</th>\n",
       "      <td>1</td>\n",
       "      <td>0</td>\n",
       "      <td>0</td>\n",
       "      <td>0</td>\n",
       "      <td>0</td>\n",
       "      <td>1</td>\n",
       "      <td>0</td>\n",
       "      <td>0</td>\n",
       "      <td>0</td>\n",
       "      <td>1</td>\n",
       "      <td>...</td>\n",
       "      <td>0</td>\n",
       "      <td>0</td>\n",
       "      <td>0</td>\n",
       "      <td>0</td>\n",
       "      <td>0</td>\n",
       "      <td>0</td>\n",
       "      <td>0</td>\n",
       "      <td>0</td>\n",
       "      <td>0</td>\n",
       "      <td>0</td>\n",
       "    </tr>\n",
       "    <tr>\n",
       "      <th>3</th>\n",
       "      <td>0</td>\n",
       "      <td>0</td>\n",
       "      <td>0</td>\n",
       "      <td>0</td>\n",
       "      <td>0</td>\n",
       "      <td>0</td>\n",
       "      <td>0</td>\n",
       "      <td>0</td>\n",
       "      <td>0</td>\n",
       "      <td>0</td>\n",
       "      <td>...</td>\n",
       "      <td>0</td>\n",
       "      <td>0</td>\n",
       "      <td>0</td>\n",
       "      <td>0</td>\n",
       "      <td>0</td>\n",
       "      <td>0</td>\n",
       "      <td>0</td>\n",
       "      <td>0</td>\n",
       "      <td>0</td>\n",
       "      <td>0</td>\n",
       "    </tr>\n",
       "    <tr>\n",
       "      <th>4</th>\n",
       "      <td>0</td>\n",
       "      <td>0</td>\n",
       "      <td>0</td>\n",
       "      <td>0</td>\n",
       "      <td>0</td>\n",
       "      <td>0</td>\n",
       "      <td>0</td>\n",
       "      <td>0</td>\n",
       "      <td>0</td>\n",
       "      <td>0</td>\n",
       "      <td>...</td>\n",
       "      <td>0</td>\n",
       "      <td>0</td>\n",
       "      <td>0</td>\n",
       "      <td>0</td>\n",
       "      <td>0</td>\n",
       "      <td>0</td>\n",
       "      <td>0</td>\n",
       "      <td>0</td>\n",
       "      <td>0</td>\n",
       "      <td>0</td>\n",
       "    </tr>\n",
       "  </tbody>\n",
       "</table>\n",
       "<p>5 rows × 2621 columns</p>\n",
       "</div>"
      ],
      "text/plain": [
       "   not_bow  st_bow  Im_bow  see_bow  The_bow  time_bow  amp_bow  like_bow  \\\n",
       "0        0       0       0        0        0         0        0         0   \n",
       "1        0       0       0        0        0         0        0         0   \n",
       "2        1       0       0        0        0         1        0         0   \n",
       "3        0       0       0        0        0         0        0         0   \n",
       "4        0       0       0        0        0         0        0         0   \n",
       "\n",
       "   going_bow  day_bow  ...  Prime_bow  Minister_bow  Alexis_bow  Hollande_bow  \\\n",
       "0          0        0  ...          0             0           0             0   \n",
       "1          0        0  ...          0             0           0             0   \n",
       "2          0        1  ...          0             0           0             0   \n",
       "3          0        0  ...          0             0           0             0   \n",
       "4          0        0  ...          0             0           0             0   \n",
       "\n",
       "   parliament_bow  Deadpool_bow  girlfriend_bow  Castle_bow  Cavani_bow  \\\n",
       "0               0             0               0           0           0   \n",
       "1               0             0               0           0           0   \n",
       "2               0             0               0           0           0   \n",
       "3               0             0               0           0           0   \n",
       "4               0             0               0           0           0   \n",
       "\n",
       "   fiddle_bow  \n",
       "0           0  \n",
       "1           0  \n",
       "2           0  \n",
       "3           0  \n",
       "4           0  \n",
       "\n",
       "[5 rows x 2621 columns]"
      ]
     },
     "execution_count": 306,
     "metadata": {},
     "output_type": "execute_result"
    }
   ],
   "source": [
    "bow.iloc[:, 1:].head()"
   ]
  },
  {
   "cell_type": "code",
   "execution_count": 309,
   "metadata": {},
   "outputs": [
    {
     "data": {
      "text/plain": [
       "0     neutral\n",
       "1     neutral\n",
       "2    negative\n",
       "3    positive\n",
       "4     neutral\n",
       "Name: label, dtype: object"
      ]
     },
     "execution_count": 309,
     "metadata": {},
     "output_type": "execute_result"
    }
   ],
   "source": [
    "bow['label'].head()"
   ]
  },
  {
   "cell_type": "code",
   "execution_count": 310,
   "metadata": {},
   "outputs": [
    {
     "name": "stdout",
     "output_type": "stream",
     "text": [
      "\n",
      "---------------------------------------------------------\n",
      "Testing BernoulliNB\n",
      "Learing time 0.2850830554962158s\n",
      "Predicting time 0.06870770454406738s\n",
      "=================== Results ===================\n",
      "            Negative     Neutral     Positive\n",
      "F1       [0.34660422 0.43897996 0.68825911]\n",
      "Precision[0.44047619 0.46346154 0.63365282]\n",
      "Recall   [0.28571429 0.41695502 0.75316456]\n",
      "Accuracy 0.5593116164720344\n",
      "===============================================\n"
     ]
    }
   ],
   "source": [
    "#train_test_split and BernoulliNB\n",
    "from sklearn.naive_bayes import BernoulliNB\n",
    "X_train, X_test, y_train, y_test = train_test_split(bow.iloc[:, 1:], bow['label'], test_size=0.3)\n",
    "precision, recall, accuracy, f1 = test_classifier(X_train, y_train, X_test, y_test, BernoulliNB())"
   ]
  },
  {
   "cell_type": "code",
   "execution_count": 314,
   "metadata": {},
   "outputs": [
    {
     "name": "stdout",
     "output_type": "stream",
     "text": [
      "\n",
      "---------------------------------------------------------\n",
      "Testing RandomForestClassifier\n",
      "Learing time 9.050661087036133s\n",
      "Predicting time 0.2251272201538086s\n",
      "=================== Results ===================\n",
      "            Negative     Neutral     Positive\n",
      "F1       [0.2005571  0.45544554 0.70852018]\n",
      "Precision[0.57142857 0.44858156 0.632     ]\n",
      "Recall   [0.12162162 0.46252285 0.80612245]\n",
      "Accuracy 0.5660725261216963\n",
      "===============================================\n"
     ]
    }
   ],
   "source": [
    "from sklearn.ensemble import RandomForestClassifier\n",
    "X_train, X_test, y_train, y_test = train_test_split(data_model.drop(columns='label',axis=1),data_model['label'] , test_size=0.3)\n",
    "precision, recall, accuracy, f1 = test_classifier(X_train, y_train, X_test, y_test, RandomForestClassifier(random_state=seed,n_estimators=403,n_jobs=-1))\n"
   ]
  },
  {
   "cell_type": "code",
   "execution_count": null,
   "metadata": {},
   "outputs": [],
   "source": []
  },
  {
   "cell_type": "code",
   "execution_count": 311,
   "metadata": {},
   "outputs": [],
   "source": [
    "def cv(classifier, X_train, y_train):\n",
    "    log(\"===============================================\")\n",
    "    classifier_name = str(type(classifier).__name__)\n",
    "    now = time()\n",
    "    log(\"Crossvalidating \" + classifier_name + \"...\")\n",
    "    accuracy = [cross_val_score(classifier, X_train, y_train, cv=8, n_jobs=-1)]\n",
    "    log(\"Crosvalidation completed in {0}s\".format(time() - now))\n",
    "    log(\"Accuracy: \" + str(accuracy[0]))\n",
    "    log(\"Average accuracy: \" + str(np.array(accuracy[0]).mean()))\n",
    "    log(\"===============================================\")\n",
    "    return accuracy"
   ]
  },
  {
   "cell_type": "markdown",
   "metadata": {},
   "source": [
    "## Add Extra Features"
   ]
  },
  {
   "cell_type": "markdown",
   "metadata": {},
   "source": [
    "To run the extra feature function we have to oad the data again because we have already removed the special charactrs and numbers."
   ]
  },
  {
   "cell_type": "code",
   "execution_count": 184,
   "metadata": {},
   "outputs": [],
   "source": [
    "train_data = pd.read_csv('data/train.csv')\n",
    "test_data = pd.read_csv('data/test.csv')\n",
    "\n",
    "train_data.rename(columns={'Category': 'emotion'}, inplace=True)\n",
    "test_data.rename(columns={'Category': 'emotion'}, inplace=True)\n",
    "\n",
    "train_data = train_data[train_data['emotion'] != 'Tweet']\n",
    "test_data = test_data[test_data['emotion'] != 'Tweet']"
   ]
  },
  {
   "cell_type": "raw",
   "metadata": {},
   "source": [
    "Feature name \tExplanation\n",
    "Number of uppercase \tpeople tend to express with either positive or negative emotions by using A LOT OF UPPERCASE WORDS\n",
    "Number of ! \texclamation marks are likely to increase the strength of opinion\n",
    "Number of ? \tmight distinguish neutral tweets - seeking for information\n",
    "Number of positive emoticons \tpositive emoji will most likely not occur in the negative tweets\n",
    "Number of negative emoticons \tinverse to the one above\n",
    "Number of … \tcommonly used in commenting something\n",
    "Number of quotations \tsame as above\n",
    "Number of mentions \tsometimes people put a lot of mentions on positive tweets, to share something good\n",
    "Number of hashtags \tjust for the experiment\n",
    "Number of urls \tsimiliar to the number of mentions"
   ]
  },
  {
   "cell_type": "code",
   "execution_count": 312,
   "metadata": {},
   "outputs": [],
   "source": [
    "def add_extra_feature(df, tweet_column):\n",
    "    \n",
    "    # Print Number of Exclamation\n",
    "    #length_of_excl = (len(re.findall(r'!', string)))\n",
    "    df['number_of_exclamation'] = tweet_column.apply(lambda x: (len(re.findall(r'!', x))))\n",
    "    \n",
    "    # Number of ?\n",
    "    #length_of_questionmark = (len(re.findall(r'?', string)))\n",
    "    df['number_of_questionmark'] = tweet_column.apply(lambda x: (len(re.findall(r'[?]', x))))\n",
    "    \n",
    "    # Number of #\n",
    "    df['number_of_hashtag'] = tweet_column.apply(lambda x: (len(re.findall(r'#', x))))\n",
    "    \n",
    "    # Number of @\n",
    "    df['number_of_mention'] = tweet_column.apply(lambda x: (len(re.findall(r'@', x))))\n",
    "    \n",
    "    # Number of Quotes\n",
    "    df['number_of_quotes'] = tweet_column.apply(lambda x: (len(re.findall(r\"'\", x))))\n",
    "\n",
    "    # Number if underscore\n",
    "    df['number_of_underscore'] = tweet_column.apply(lambda x: (len(re.findall(r'_', x))))\n",
    "    \n",
    "    \n",
    "    #print((txt.split(\" \"), row))\n",
    "    #print(row.split())"
   ]
  },
  {
   "cell_type": "code",
   "execution_count": 313,
   "metadata": {},
   "outputs": [],
   "source": [
    "# pass the train_data into add_extra_feature function\n",
    "add_extra_feature(train_data, train_data[\"Tweet\"])\n"
   ]
  },
  {
   "cell_type": "markdown",
   "metadata": {},
   "source": [
    "## ADD EMOTICONS"
   ]
  },
  {
   "cell_type": "markdown",
   "metadata": {},
   "source": [
    "Here, users emoticons in a tweet also matters, so we will find the emoticons in a users tweet."
   ]
  },
  {
   "cell_type": "code",
   "execution_count": 187,
   "metadata": {},
   "outputs": [],
   "source": [
    "## Emoticon Detector class\n",
    "\n",
    "class EmoticonDetector:\n",
    "    emoticons = {}\n",
    "\n",
    "    def __init__(self, emoticon_file=\"data/emoticons.txt\"):\n",
    "        from pathlib import Path # Object-oriented filesystem paths\n",
    "        content = Path(emoticon_file).read_text()\n",
    "        positive = True\n",
    "        for line in content.split(\"\\n\"):\n",
    "            if \"positive\" in line.lower():\n",
    "                positive = True\n",
    "                continue\n",
    "            elif \"negative\" in line.lower():\n",
    "                positive = False\n",
    "                continue\n",
    "\n",
    "            self.emoticons[line] = positive\n",
    "\n",
    "    def is_positive(self, emoticon):\n",
    "        if emoticon in self.emoticons:\n",
    "            return self.emoticons[emoticon]\n",
    "        return False\n",
    "\n",
    "    def is_emoticon(self, to_check):\n",
    "        return to_check in self.emoticons"
   ]
  },
  {
   "cell_type": "code",
   "execution_count": 188,
   "metadata": {},
   "outputs": [],
   "source": [
    "ed = EmoticonDetector()"
   ]
  },
  {
   "cell_type": "code",
   "execution_count": 189,
   "metadata": {},
   "outputs": [],
   "source": [
    "processed_data = train_data.copy()\n",
    "\n",
    "def add_column(column_name, column_content):\n",
    "    processed_data.loc[:, column_name] = pd.Series(column_content, index=processed_data.index)\n",
    "\n",
    "def count_by_lambda(expression, word_array):\n",
    "    return len(list(filter(expression, word_array)))\n",
    "\n",
    "add_column(\"splitted_text\", map(lambda txt: txt.split(\" \"), processed_data[\"Tweet\"]))\n",
    "\n",
    "positive_emo = list(\n",
    "    map(lambda txt: count_by_lambda(lambda word: ed.is_emoticon(word) and ed.is_positive(word), txt),\n",
    "        processed_data[\"splitted_text\"]))\n",
    "add_column(\"number_of_positive_emo\", positive_emo)\n",
    "\n",
    "negative_emo = list(map(\n",
    "    lambda txt: count_by_lambda(lambda word: ed.is_emoticon(word) and not ed.is_positive(word), txt),\n",
    "    processed_data[\"splitted_text\"]))\n",
    "\n",
    "add_column(\"number_of_negative_emo\", negative_emo)"
   ]
  },
  {
   "cell_type": "code",
   "execution_count": 190,
   "metadata": {},
   "outputs": [],
   "source": [
    "train_data['number_of_positive_emo'] = positive_emo\n",
    "train_data['number_of_negative_emo'] = negative_emo"
   ]
  },
  {
   "cell_type": "markdown",
   "metadata": {},
   "source": [
    "## WHY EXTRA FEATURES"
   ]
  },
  {
   "cell_type": "raw",
   "metadata": {},
   "source": [
    "Let's see how (some) of the extra features distribute the data set. Some of them, i.e number exclamation marks, number of pos/neg emoticons do this surprisingly well. Notwithstanding the good severance, those features seldom transpire only on a small subset of the training dataset."
   ]
  },
  {
   "cell_type": "code",
   "execution_count": 191,
   "metadata": {},
   "outputs": [
    {
     "data": {
      "image/png": "[encoded data removed]",
      "text/plain": [
       "<Figure size 432x288 with 1 Axes>"
      ]
     },
     "metadata": {
      "needs_background": "light"
     },
     "output_type": "display_data"
    }
   ],
   "source": [
    "sns.barplot(x='emotion', y='number_of_mention', data=train_data)\n",
    "sns.despine()\n",
    "plt.tight_layout()"
   ]
  },
  {
   "cell_type": "code",
   "execution_count": 192,
   "metadata": {},
   "outputs": [
    {
     "data": {
      "image/png": "[encoded data removed]",
      "text/plain": [
       "<Figure size 432x288 with 1 Axes>"
      ]
     },
     "metadata": {
      "needs_background": "light"
     },
     "output_type": "display_data"
    }
   ],
   "source": [
    "sns.barplot(x='emotion', y='number_of_negative_emo', data=train_data)\n",
    "sns.despine()\n",
    "plt.tight_layout()"
   ]
  },
  {
   "cell_type": "code",
   "execution_count": 193,
   "metadata": {},
   "outputs": [
    {
     "data": {
      "image/png": "[encoded data removed]",
      "text/plain": [
       "<Figure size 432x288 with 1 Axes>"
      ]
     },
     "metadata": {
      "needs_background": "light"
     },
     "output_type": "display_data"
    }
   ],
   "source": [
    "sns.barplot(x='emotion', y='number_of_questionmark', data=train_data)\n",
    "sns.despine()\n",
    "plt.tight_layout()"
   ]
  },
  {
   "cell_type": "code",
   "execution_count": 194,
   "metadata": {},
   "outputs": [
    {
     "data": {
      "image/png": "[encoded data removed]",
      "text/plain": [
       "<Figure size 432x288 with 1 Axes>"
      ]
     },
     "metadata": {
      "needs_background": "light"
     },
     "output_type": "display_data"
    }
   ],
   "source": [
    "sns.barplot(x='emotion', y='number_of_exclamation', data=train_data)\n",
    "sns.despine()\n",
    "plt.tight_layout()"
   ]
  },
  {
   "cell_type": "code",
   "execution_count": 195,
   "metadata": {
    "scrolled": true
   },
   "outputs": [
    {
     "data": {
      "image/png": "[encoded data removed]",
      "text/plain": [
       "<Figure size 432x288 with 1 Axes>"
      ]
     },
     "metadata": {
      "needs_background": "light"
     },
     "output_type": "display_data"
    }
   ],
   "source": [
    "sns.barplot(x='emotion', y='number_of_positive_emo', data=train_data)\n",
    "sns.despine()\n",
    "plt.tight_layout()"
   ]
  },
  {
   "cell_type": "code",
   "execution_count": 196,
   "metadata": {},
   "outputs": [
    {
     "data": {
      "image/png": "[encoded data removed]",
      "text/plain": [
       "<Figure size 432x288 with 1 Axes>"
      ]
     },
     "metadata": {
      "needs_background": "light"
     },
     "output_type": "display_data"
    }
   ],
   "source": [
    "sns.barplot(x='emotion', y='number_of_hashtag', data=train_data)\n",
    "sns.despine()\n",
    "plt.tight_layout()"
   ]
  },
  {
   "cell_type": "code",
   "execution_count": 197,
   "metadata": {},
   "outputs": [
    {
     "data": {
      "image/png": "[encoded data removed]",
      "text/plain": [
       "<Figure size 432x288 with 1 Axes>"
      ]
     },
     "metadata": {
      "needs_background": "light"
     },
     "output_type": "display_data"
    }
   ],
   "source": [
    "sns.barplot(x='emotion', y='number_of_underscore', data=train_data)\n",
    "sns.despine()\n",
    "plt.tight_layout()"
   ]
  },
  {
   "cell_type": "markdown",
   "metadata": {},
   "source": [
    "## Preapre training data for model"
   ]
  },
  {
   "cell_type": "code",
   "execution_count": 198,
   "metadata": {},
   "outputs": [
    {
     "data": {
      "text/html": [
       "<div>\n",
       "<style scoped>\n",
       "    .dataframe tbody tr th:only-of-type {\n",
       "        vertical-align: middle;\n",
       "    }\n",
       "\n",
       "    .dataframe tbody tr th {\n",
       "        vertical-align: top;\n",
       "    }\n",
       "\n",
       "    .dataframe thead th {\n",
       "        text-align: right;\n",
       "    }\n",
       "</style>\n",
       "<table border=\"1\" class=\"dataframe\">\n",
       "  <thead>\n",
       "    <tr style=\"text-align: right;\">\n",
       "      <th></th>\n",
       "      <th>Id</th>\n",
       "      <th>emotion</th>\n",
       "      <th>Tweet</th>\n",
       "      <th>number_of_exclamation</th>\n",
       "      <th>number_of_questionmark</th>\n",
       "      <th>number_of_hashtag</th>\n",
       "      <th>number_of_mention</th>\n",
       "      <th>number_of_quotes</th>\n",
       "      <th>number_of_underscore</th>\n",
       "      <th>number_of_positive_emo</th>\n",
       "      <th>number_of_negative_emo</th>\n",
       "    </tr>\n",
       "  </thead>\n",
       "  <tbody>\n",
       "    <tr>\n",
       "      <th>0</th>\n",
       "      <td>635769805279248384</td>\n",
       "      <td>negative</td>\n",
       "      <td>Not Available</td>\n",
       "      <td>0</td>\n",
       "      <td>0</td>\n",
       "      <td>0</td>\n",
       "      <td>0</td>\n",
       "      <td>0</td>\n",
       "      <td>0</td>\n",
       "      <td>0</td>\n",
       "      <td>0</td>\n",
       "    </tr>\n",
       "    <tr>\n",
       "      <th>1</th>\n",
       "      <td>635930169241374720</td>\n",
       "      <td>neutral</td>\n",
       "      <td>IOS 9 App Transport Security. Mm need to check...</td>\n",
       "      <td>0</td>\n",
       "      <td>0</td>\n",
       "      <td>0</td>\n",
       "      <td>0</td>\n",
       "      <td>0</td>\n",
       "      <td>0</td>\n",
       "      <td>0</td>\n",
       "      <td>0</td>\n",
       "    </tr>\n",
       "    <tr>\n",
       "      <th>2</th>\n",
       "      <td>635950258682523648</td>\n",
       "      <td>neutral</td>\n",
       "      <td>Mar if you have an iOS device, you should down...</td>\n",
       "      <td>0</td>\n",
       "      <td>0</td>\n",
       "      <td>0</td>\n",
       "      <td>0</td>\n",
       "      <td>0</td>\n",
       "      <td>0</td>\n",
       "      <td>0</td>\n",
       "      <td>0</td>\n",
       "    </tr>\n",
       "    <tr>\n",
       "      <th>3</th>\n",
       "      <td>636030803433009153</td>\n",
       "      <td>negative</td>\n",
       "      <td>@jimmie_vanagon my phone does not run on lates...</td>\n",
       "      <td>0</td>\n",
       "      <td>0</td>\n",
       "      <td>0</td>\n",
       "      <td>1</td>\n",
       "      <td>0</td>\n",
       "      <td>1</td>\n",
       "      <td>0</td>\n",
       "      <td>0</td>\n",
       "    </tr>\n",
       "    <tr>\n",
       "      <th>4</th>\n",
       "      <td>636100906224848896</td>\n",
       "      <td>positive</td>\n",
       "      <td>Not sure how to start your publication on iOS?...</td>\n",
       "      <td>0</td>\n",
       "      <td>1</td>\n",
       "      <td>0</td>\n",
       "      <td>0</td>\n",
       "      <td>1</td>\n",
       "      <td>0</td>\n",
       "      <td>0</td>\n",
       "      <td>0</td>\n",
       "    </tr>\n",
       "  </tbody>\n",
       "</table>\n",
       "</div>"
      ],
      "text/plain": [
       "                   Id   emotion  \\\n",
       "0  635769805279248384  negative   \n",
       "1  635930169241374720   neutral   \n",
       "2  635950258682523648   neutral   \n",
       "3  636030803433009153  negative   \n",
       "4  636100906224848896  positive   \n",
       "\n",
       "                                               Tweet  number_of_exclamation  \\\n",
       "0                                      Not Available                      0   \n",
       "1  IOS 9 App Transport Security. Mm need to check...                      0   \n",
       "2  Mar if you have an iOS device, you should down...                      0   \n",
       "3  @jimmie_vanagon my phone does not run on lates...                      0   \n",
       "4  Not sure how to start your publication on iOS?...                      0   \n",
       "\n",
       "   number_of_questionmark  number_of_hashtag  number_of_mention  \\\n",
       "0                       0                  0                  0   \n",
       "1                       0                  0                  0   \n",
       "2                       0                  0                  0   \n",
       "3                       0                  0                  1   \n",
       "4                       1                  0                  0   \n",
       "\n",
       "   number_of_quotes  number_of_underscore  number_of_positive_emo  \\\n",
       "0                 0                     0                       0   \n",
       "1                 0                     0                       0   \n",
       "2                 0                     0                       0   \n",
       "3                 0                     1                       0   \n",
       "4                 1                     0                       0   \n",
       "\n",
       "   number_of_negative_emo  \n",
       "0                       0  \n",
       "1                       0  \n",
       "2                       0  \n",
       "3                       0  \n",
       "4                       0  "
      ]
     },
     "execution_count": 198,
     "metadata": {},
     "output_type": "execute_result"
    }
   ],
   "source": [
    "train_data.head()"
   ]
  },
  {
   "cell_type": "code",
   "execution_count": 199,
   "metadata": {
    "scrolled": true
   },
   "outputs": [],
   "source": [
    "# apply the clean tweet function\n",
    "train_data['Tweet'] = train_data['Tweet'].apply(clean_tweets)"
   ]
  },
  {
   "cell_type": "code",
   "execution_count": 200,
   "metadata": {},
   "outputs": [],
   "source": [
    "## Tokenize data\n",
    "train_data['text'] = train_data['Tweet'].apply(tokenize)\n",
    "train_data['tokenized'] = train_data['text'].apply(stemming)"
   ]
  },
  {
   "cell_type": "code",
   "execution_count": 201,
   "metadata": {},
   "outputs": [],
   "source": [
    "## BAG OF WORDS\n",
    "wordlist= []\n",
    "if os.path.isfile(\"wordlist.csv\"):\n",
    "    word_df = pd.read_csv(\"wordlist.csv\")\n",
    "    word_df = word_df[word_df[\"occurrences\"] > 3]\n",
    "    wordlist = list(word_df.loc[:, \"word\"])\n",
    "\n",
    "label_column = [\"label\"]\n",
    "columns = label_column + list(map(lambda w: w + \"_bow\",wordlist))\n",
    "labels = []\n",
    "rows = []\n",
    "for idx in train_data.index:\n",
    "    current_row = []\n",
    "        # add label\n",
    "    current_label = train_data.loc[idx, \"emotion\"]\n",
    "    labels.append(current_label)\n",
    "    current_row.append(current_label)\n",
    "\n",
    "    # add bag-of-words\n",
    "    tokens = set(train_data.loc[idx, \"text\"])\n",
    "    for _, word in enumerate(wordlist):\n",
    "        current_row.append(1 if word in tokens else 0)\n",
    "\n",
    "    rows.append(current_row)\n",
    "\n",
    "data_model = pd.DataFrame(rows, columns=columns)\n",
    "data_labels = pd.Series(labels)\n",
    "\n"
   ]
  },
  {
   "cell_type": "code",
   "execution_count": 202,
   "metadata": {},
   "outputs": [],
   "source": [
    "dat1 = train_data\n",
    "dat2 = data_model\n",
    "\n",
    "dat1 = dat1.reset_index(drop=True)\n",
    "dat2 = dat2.reset_index(drop=True)\n",
    "\n",
    "data_model = dat1.join(dat2)"
   ]
  },
  {
   "cell_type": "code",
   "execution_count": null,
   "metadata": {
    "scrolled": true
   },
   "outputs": [],
   "source": [
    "train_data.columns"
   ]
  },
  {
   "cell_type": "code",
   "execution_count": 204,
   "metadata": {},
   "outputs": [],
   "source": [
    "## Drop the columns in data_model\n",
    "data_model = data_model.drop(columns=['emotion','Tweet','text', 'tokenized','Id'], axis=1)"
   ]
  },
  {
   "cell_type": "raw",
   "metadata": {},
   "source": []
  },
  {
   "cell_type": "markdown",
   "metadata": {},
   "source": [
    "## Experiment 2: Added feature + Random Forest"
   ]
  },
  {
   "cell_type": "code",
   "execution_count": 205,
   "metadata": {},
   "outputs": [
    {
     "name": "stdout",
     "output_type": "stream",
     "text": [
      "\n",
      "---------------------------------------------------------\n",
      "Testing RandomForestClassifier\n",
      "Learing time 9.228674173355103s\n",
      "Predicting time 0.2288219928741455s\n",
      "=================== Results ===================\n",
      "            Negative     Neutral     Positive\n",
      "F1       [0.17741935 0.46899841 0.6875    ]\n",
      "Precision[0.56896552 0.46165884 0.61334552]\n",
      "Recall   [0.10509554 0.47657512 0.78205128]\n",
      "Accuracy 0.5577889447236181\n",
      "===============================================\n"
     ]
    }
   ],
   "source": [
    "from sklearn.ensemble import RandomForestClassifier\n",
    "X_train, X_test, y_train, y_test = train_test_split(data_model.drop(columns='label',axis=1),data_model['label'] , test_size=0.3)\n",
    "precision, recall, accuracy, f1 = test_classifier(X_train, y_train, X_test, y_test, RandomForestClassifier(random_state=seed,n_estimators=403,n_jobs=-1))\n"
   ]
  },
  {
   "cell_type": "code",
   "execution_count": 206,
   "metadata": {
    "scrolled": true
   },
   "outputs": [
    {
     "name": "stdout",
     "output_type": "stream",
     "text": [
      "===============================================\n",
      "Crossvalidating RandomForestClassifier...\n",
      "Crosvalidation completed in 141.36567616462708s\n",
      "Accuracy: [0.53815261 0.51807229 0.40963855 0.30254351 0.39812332 0.51006711\n",
      " 0.53288591 0.53959732]\n",
      "Average accuracy: 0.46863507764316226\n",
      "===============================================\n"
     ]
    }
   ],
   "source": [
    "rf_acc = cv(RandomForestClassifier(n_estimators=403,n_jobs=-1, random_state=seed),data_model.drop(columns='label',axis=1), data_model['label'])"
   ]
  },
  {
   "cell_type": "markdown",
   "metadata": {},
   "source": [
    "## Experiment 3: Added Feature + XGBoost"
   ]
  },
  {
   "cell_type": "code",
   "execution_count": 207,
   "metadata": {},
   "outputs": [
    {
     "ename": "ModuleNotFoundError",
     "evalue": "No module named 'xgboost'",
     "output_type": "error",
     "traceback": [
      "\u001b[0;31m---------------------------------------------------------------------------\u001b[0m",
      "\u001b[0;31mModuleNotFoundError\u001b[0m                       Traceback (most recent call last)",
      "\u001b[0;32m<ipython-input-207-f52c10d40a13>\u001b[0m in \u001b[0;36m<module>\u001b[0;34m\u001b[0m\n\u001b[0;32m----> 1\u001b[0;31m \u001b[0;32mfrom\u001b[0m \u001b[0mxgboost\u001b[0m \u001b[0;32mimport\u001b[0m \u001b[0mXGBClassifier\u001b[0m \u001b[0;32mas\u001b[0m \u001b[0mXGBoostClassifier\u001b[0m\u001b[0;34m\u001b[0m\u001b[0;34m\u001b[0m\u001b[0m\n\u001b[0m",
      "\u001b[0;31mModuleNotFoundError\u001b[0m: No module named 'xgboost'"
     ]
    }
   ],
   "source": [
    "from xgboost import XGBClassifier as XGBoostClassifier"
   ]
  },
  {
   "cell_type": "code",
   "execution_count": null,
   "metadata": {
    "scrolled": true
   },
   "outputs": [],
   "source": [
    "X_train, X_test, y_train, y_test = train_test_split(data_model.drop(columns='label',axis=1),data_model['label'] , test_size=0.3)\n",
    "precision, recall, accuracy, f1 = test_classifier(X_train, y_train, X_test, y_test, XGBoostClassifier(seed=seed))"
   ]
  },
  {
   "cell_type": "markdown",
   "metadata": {},
   "source": [
    "## Experiment 4: Added Feature + Naive Bayes"
   ]
  },
  {
   "cell_type": "code",
   "execution_count": null,
   "metadata": {},
   "outputs": [],
   "source": [
    "X_train, X_test, y_train, y_test = train_test_split(data_model.drop(columns='label',axis=1),data_model['label'] , test_size=0.3)\n",
    "precision, recall, accuracy, f1 = test_classifier(X_train, y_train, X_test, y_test, BernoulliNB())"
   ]
  },
  {
   "cell_type": "markdown",
   "metadata": {},
   "source": [
    "## Test Data"
   ]
  },
  {
   "cell_type": "code",
   "execution_count": null,
   "metadata": {
    "scrolled": true
   },
   "outputs": [],
   "source": [
    "test_data.head()"
   ]
  },
  {
   "cell_type": "code",
   "execution_count": null,
   "metadata": {},
   "outputs": [],
   "source": [
    "test_data.columns"
   ]
  },
  {
   "cell_type": "code",
   "execution_count": null,
   "metadata": {},
   "outputs": [],
   "source": [
    "# remove the tweets which contains Not available\n",
    "test_data = test_data.rename(columns={\"emotion\": \"Tweet\"})\n",
    "test_data = test_data[test_data['Tweet'] != \"Not Available\"]"
   ]
  },
  {
   "cell_type": "code",
   "execution_count": null,
   "metadata": {},
   "outputs": [],
   "source": [
    "\n",
    "# Drop null values\n",
    "test_data = test_data.dropna() \n",
    "\n",
    "# add extra features\n",
    "add_extra_feature(test_data, test_data['Tweet'])\n",
    "\n",
    "# Clean tweets\n",
    "test_data['Tweet'] = test_data['Tweet'].apply(clean_tweets)\n",
    "\n",
    "## Tokenize data\n",
    "test_data['text'] = test_data['Tweet'].apply(tokenize)\n",
    "test_data['tokenized'] = test_data['text'].apply(stemming)"
   ]
  },
  {
   "cell_type": "code",
   "execution_count": null,
   "metadata": {},
   "outputs": [],
   "source": [
    "# wordlist\n",
    "word_list(test_data)"
   ]
  },
  {
   "cell_type": "code",
   "execution_count": null,
   "metadata": {},
   "outputs": [],
   "source": [
    "## BAG OF WORDS\n",
    "wordlist= []\n",
    "if os.path.isfile(\"wordlist.csv\"):\n",
    "    word_df = pd.read_csv(\"wordlist.csv\")\n",
    "    word_df = word_df[word_df[\"occurrences\"] > 3]\n",
    "    wordlist = list(word_df.loc[:, \"word\"])\n",
    "\n",
    "label_column = [\"label\"]\n",
    "columns = label_column + list(map(lambda w: w + \"_bow\",wordlist))\n",
    "labels = []\n",
    "rows = []\n",
    "for idx in test_data.index:\n",
    "    current_row = []\n",
    "        # add label\n",
    "    current_label = test_data.loc[idx, \"Tweet\"]\n",
    "    labels.append(current_label)\n",
    "    current_row.append(current_label)\n",
    "\n",
    "    # add bag-of-words\n",
    "    tokens = set(test_data.loc[idx, \"text\"])\n",
    "    for _, word in enumerate(wordlist):\n",
    "        current_row.append(1 if word in tokens else 0)\n",
    "\n",
    "    rows.append(current_row)\n",
    "\n",
    "data_model = pd.DataFrame(rows, columns=columns)\n",
    "data_labels = pd.Series(labels)\n",
    "\n"
   ]
  },
  {
   "cell_type": "code",
   "execution_count": null,
   "metadata": {},
   "outputs": [],
   "source": [
    "dat1 = test_data\n",
    "dat2 = data_model\n",
    "\n",
    "dat1 = dat1.reset_index(drop=True)\n",
    "dat2 = dat2.reset_index(drop=True)\n",
    "\n",
    "data_model = dat1.join(dat2)"
   ]
  },
  {
   "cell_type": "code",
   "execution_count": null,
   "metadata": {},
   "outputs": [],
   "source": [
    "test_model = pd.DataFrame()\n",
    "test_model['original_id'] = data_model['Id']"
   ]
  },
  {
   "cell_type": "code",
   "execution_count": null,
   "metadata": {},
   "outputs": [],
   "source": [
    "data_model = data_model.drop(columns=['Tweet','text', 'tokenized','Id'], axis=1)"
   ]
  },
  {
   "cell_type": "code",
   "execution_count": null,
   "metadata": {},
   "outputs": [],
   "source": [
    "from sklearn.ensemble import RandomForestClassifier"
   ]
  },
  {
   "cell_type": "code",
   "execution_count": null,
   "metadata": {},
   "outputs": [],
   "source": [
    "RF = RandomForestClassifier(n_estimators=403,max_depth=10)"
   ]
  },
  {
   "cell_type": "code",
   "execution_count": null,
   "metadata": {},
   "outputs": [],
   "source": [
    "RF.fit(data_model.drop(columns='label',axis=1),data_model['label'])"
   ]
  },
  {
   "cell_type": "code",
   "execution_count": null,
   "metadata": {},
   "outputs": [],
   "source": [
    "predictions = RF.predict(data_model.drop(columns='label',axis=1))"
   ]
  },
  {
   "cell_type": "code",
   "execution_count": null,
   "metadata": {},
   "outputs": [],
   "source": [
    "results = pd.DataFrame([],columns=[\"Id\",\"Category\"])\n",
    "results[\"Id\"] = test_model[\"original_id\"].astype(\"int64\")\n",
    "results[\"Category\"] = predictions\n",
    "results.to_csv(\"results_xgb.csv\",index=False)"
   ]
  },
  {
   "cell_type": "code",
   "execution_count": null,
   "metadata": {},
   "outputs": [],
   "source": [
    "results"
   ]
  },
  {
   "cell_type": "markdown",
   "metadata": {},
   "source": [
    "### Conclusion\n",
    "The increase of microblogging sites like Twitter offers an unparalleled opening to form and employ approaches & technologies that search and mine for sentiments. The work presented in this paper specifies an approach for sentiment analysis on Twitter data. To unseal the sentiment, we extracted the relevant data from the tweets, added the features.\n",
    "The overall tweet sentiment was then calculated using a model that presented in this report. This work is exploratory in nature and the prototype evaluated is a preliminary prototype. \n",
    "The models showed that prediction of text sentiment is a non-trivial task for machine learning. A lot of preprocessing is needed just to be able to run an algorithm. The main problem for sentiment analysis is to craft the machine representation of the text. Simple bag-of-words was definitely not enough to obtain satisfying results, thus a lot of additional features were created basing on common sense (number of emoticons, exclamation marks, number of question mark etc). I think that a slight improvement in classification accuracy for the given training dataset could be developed, but since it included highly skewed data (small number of negative cases), the difference will be probably in the order of a few percents. The thing that could possibly enhance classification outcomes will be to add a lot of additional examples (increase training dataset), because given 5971 examples clearly do not include all sequence of words used, further - a lot of emotion-expressing information certainly is missing."
   ]
  },
  {
   "cell_type": "code",
   "execution_count": null,
   "metadata": {},
   "outputs": [],
   "source": []
  }
 ],
 "metadata": {
  "kernelspec": {
   "display_name": "Python 3",
   "language": "python",
   "name": "python3"
  },
  "language_info": {
   "codemirror_mode": {
    "name": "ipython",
    "version": 3
   },
   "file_extension": ".py",
   "mimetype": "text/x-python",
   "name": "python",
   "nbconvert_exporter": "python",
   "pygments_lexer": "ipython3",
   "version": "3.7.3"
  }
 },
 "nbformat": 4,
 "nbformat_minor": 4
}
